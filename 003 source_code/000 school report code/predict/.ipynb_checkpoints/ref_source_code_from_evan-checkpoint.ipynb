{
 "cells": [
  {
   "cell_type": "code",
   "execution_count": 1,
   "metadata": {
    "scrolled": true
   },
   "outputs": [],
   "source": [
    "import pandas as pd\n",
    "import numpy as np\n",
    "from common_function.my_tfidf import *\n",
    "import collections"
   ]
  },
  {
   "cell_type": "code",
   "execution_count": 2,
   "metadata": {
    "scrolled": true
   },
   "outputs": [],
   "source": [
    "train_label_df=pd.read_csv(\"dataset/training.txt\",sep=\" \",header=None)\n",
    "train_label_df=train_label_df.set_index(keys=0,drop=True).drop(axis=1,columns=16)  \n",
    "train_label_df.index.name=\"class\"\n",
    "output_sample=pd.read_csv(\"dataset/hw3_sam.csv\").set_index(\"id\")\n"
   ]
  },
  {
   "cell_type": "code",
   "execution_count": 3,
   "metadata": {
    "scrolled": false
   },
   "outputs": [],
   "source": [
    "np.zeros(1095)\n",
    "text_class=pd.Series(np.zeros(1095),index=pd.Index(range(1,1096)),name=\"text_class\")\n",
    "for i in (range(1,14)):\n",
    "    text_class.loc[train_label_df.loc[i,:].values]=i\n",
    "    text_class=text_class.astype(int)"
   ]
  },
  {
   "cell_type": "code",
   "execution_count": 4,
   "metadata": {
    "scrolled": true
   },
   "outputs": [],
   "source": [
    "N=1095\n",
    "text_s=pd.Series(name=\"text_s\")\n",
    "text_noisefree_s=pd.Series(name=\"text_noisefree_s\")\n",
    "text_noisefreetext_s=pd.Series(name=\"text_noisefreetext_s\")\n",
    "corpus=Counter()\n",
    "for i in range(1,N+1):\n",
    "    text=get_text_data(i,ROOT=\"dataset/IRTM/\")\n",
    "    text_s.at[i]=text\n",
    "    noisefree_list=tokenize_to_list(text,stem=True)\n",
    "    text_noisefree_s.at[i]=noisefree_list\n",
    "    corpus.update(noisefree_list)"
   ]
  },
  {
   "cell_type": "code",
   "execution_count": 5,
   "metadata": {},
   "outputs": [],
   "source": [
    "stopwords=[word for word ,times in corpus.most_common(100)]\n",
    "for i in range(1,N+1):\n",
    "    text_list=tokenize_to_list(text_s[i],stem=True,stopwords=stopwords)\n",
    "    text_noisefree_s.at[i]=(text_list)\n",
    "    text_noisefreetext_s.at[i]=' '.join(text_list)\n",
    "    "
   ]
  },
  {
   "cell_type": "code",
   "execution_count": 6,
   "metadata": {},
   "outputs": [],
   "source": [
    "full_text_df=pd.concat([text_s,text_noisefree_s,text_noisefreetext_s,text_class],axis=1)"
   ]
  },
  {
   "cell_type": "markdown",
   "metadata": {},
   "source": [
    "# try some packeges\n",
    "## from textblob.classifiers import NaiveBayesClassifier as NBC"
   ]
  },
  {
   "cell_type": "code",
   "execution_count": 8,
   "metadata": {},
   "outputs": [],
   "source": [
    "from textblob.classifiers import NaiveBayesClassifier as NBC\n",
    "textblob_train_corpus=list()\n",
    "text_class_df=pd.concat([text_noisefreetext_s,text_class],axis=1)\n",
    "train_df=text_class_df.loc[text_class_df['text_class']!=0]\n",
    "test_df=text_class_df.loc[text_class_df['text_class']==0]\n",
    "for i in train_df.index:\n",
    "    textblob_train_corpus.append((train_df.loc[i,'text_noisefreetext_s'],str(train_df.loc[i,'text_class'])))\n",
    "model=NBC(textblob_train_corpus)    "
   ]
  },
  {
   "cell_type": "code",
   "execution_count": 9,
   "metadata": {},
   "outputs": [],
   "source": [
    "NBCoutput=output_sample\n",
    "for i in test_df.index:\n",
    "    NBCoutput.loc[i,\"Value\"]=model.classify(test_df.loc[i,'text_noisefreetext_s'])"
   ]
  },
  {
   "cell_type": "code",
   "execution_count": 10,
   "metadata": {},
   "outputs": [],
   "source": [
    "NBCoutput.to_csv(\"answer/NBC_answer.csv\")"
   ]
  },
  {
   "cell_type": "markdown",
   "metadata": {},
   "source": [
    "## TfidfVectorizer feat.SVM\n",
    "### from sklearn.feature_extraction.text import TfidfVectorizer"
   ]
  },
  {
   "cell_type": "code",
   "execution_count": 11,
   "metadata": {},
   "outputs": [
    {
     "data": {
      "text/plain": [
       "TfidfVectorizer(analyzer='word', binary=False, decode_error='strict',\n",
       "        dtype=<class 'numpy.float64'>, encoding='utf-8', input='content',\n",
       "        lowercase=True, max_df=1.0, max_features=None, min_df=3,\n",
       "        ngram_range=(1, 1), norm='l2', preprocessor=None, smooth_idf=True,\n",
       "        stop_words=['the', 'of', 'to', 'in', 'a', 'and', 'that', 'wa', 'for', 'said', 'on', 'he', 'it', 'is', 'with', 'hi', 'as', 'have', 'at', 'be', 'from', 'i', 'but', 'by', 'were', 'they', 'had', 'who', 'ha', 'not', 'an', 'are', 'we', 'presid', 'thi', 'been', 'state', 'will', 'there', 'one', 'say', 'woul...'them', 'so', 'kill', 'yemen', 'just', 'nation', 'investig', 'forc', 'did', 'over', 'offic', 'hous'],\n",
       "        strip_accents=None, sublinear_tf=False,\n",
       "        token_pattern='(?u)\\\\b\\\\w\\\\w+\\\\b', tokenizer=None, use_idf=True,\n",
       "        vocabulary=None)"
      ]
     },
     "execution_count": 11,
     "metadata": {},
     "output_type": "execute_result"
    }
   ],
   "source": [
    "from sklearn.feature_extraction.text import TfidfVectorizer\n",
    "tf_idf_vectorizer = TfidfVectorizer(stop_words=stopwords,min_df=3)\n",
    "corpus = text_noisefreetext_s\n",
    "X = tf_idf_vectorizer.fit(corpus)\n",
    "X"
   ]
  },
  {
   "cell_type": "code",
   "execution_count": 12,
   "metadata": {},
   "outputs": [
    {
     "data": {
      "text/plain": [
       "<1095x6274 sparse matrix of type '<class 'numpy.float64'>'\n",
       "\twith 179121 stored elements in Compressed Sparse Row format>"
      ]
     },
     "execution_count": 12,
     "metadata": {},
     "output_type": "execute_result"
    }
   ],
   "source": [
    "tf_idf_vectorizer.transform(corpus)"
   ]
  },
  {
   "cell_type": "markdown",
   "metadata": {},
   "source": [
    "### from sklearn import svm\n",
    "import TfidfVectorizer from sklearn.metrics\n",
    "import classification_report\n"
   ]
  },
  {
   "cell_type": "code",
   "execution_count": 13,
   "metadata": {},
   "outputs": [],
   "source": [
    "from sklearn.feature_extraction.text import TfidfVectorizer \n",
    "from sklearn.metrics import classification_report\n",
    "from sklearn import svm"
   ]
  },
  {
   "cell_type": "code",
   "execution_count": 35,
   "metadata": {},
   "outputs": [],
   "source": [
    "train_data=train_df['text_noisefreetext_s']\n",
    "train_labels=train_df['text_class']\n",
    "test_data=test_df['text_noisefreetext_s']"
   ]
  },
  {
   "cell_type": "code",
   "execution_count": 15,
   "metadata": {},
   "outputs": [],
   "source": [
    "# Create feature vectors \n",
    "vectorizer = TfidfVectorizer(min_df=4, max_df=0.9)\n",
    "# Train the feature vectors\n",
    "vectorizer.fit(train_data.append(test_data))\n",
    "train_vectors = vectorizer.transform(train_data)\n",
    "# Apply model on test data \n",
    "test_vectors = vectorizer.transform(test_data)"
   ]
  },
  {
   "cell_type": "code",
   "execution_count": 20,
   "metadata": {},
   "outputs": [],
   "source": [
    "# Perform classification with SVM, kernel=linear \n",
    "svc_model = svm.LinearSVC() \n",
    "svc_model.fit(train_vectors, train_labels) \n",
    "prediction = svc_model.predict(test_vectors)\n",
    "\n",
    "\n",
    "# print (classification_report(test_labels, prediction))"
   ]
  },
  {
   "cell_type": "code",
   "execution_count": 21,
   "metadata": {},
   "outputs": [],
   "source": [
    "SVMoutput=output_sample\n",
    "SVMoutput['Value']=prediction\n",
    "SVMoutput.to_csv(\"answer/SVM_answer.csv\")"
   ]
  },
  {
   "cell_type": "markdown",
   "metadata": {},
   "source": [
    "## LDA \n",
    "### preprocess for lda"
   ]
  },
  {
   "cell_type": "code",
   "execution_count": 32,
   "metadata": {},
   "outputs": [],
   "source": [
    "from gensim.models import Word2Vec\n",
    "# preprocessing imports\n",
    "from sklearn.preprocessing import LabelEncoder\n",
    "\n",
    "from gensim.models.word2vec import Word2Vec\n",
    "from sklearn.ensemble import RandomForestClassifier, AdaBoostClassifier\n",
    "from sklearn.linear_model import LogisticRegression\n",
    "# hyperparameter training imports\n",
    "from sklearn.model_selection import GridSearchCV\n",
    "\n",
    "# visualization imports\n",
    "from IPython.display import display\n",
    "import seaborn as sns\n",
    "import matplotlib.pyplot as plt\n",
    "import matplotlib.image as mpimg\n",
    "import base64\n",
    "import io\n",
    "%matplotlib inline\n",
    "sns.set()  # defines the style of the plots to be seaborn style"
   ]
  },
  {
   "cell_type": "code",
   "execution_count": 51,
   "metadata": {},
   "outputs": [
    {
     "data": {
      "text/plain": [
       "Int64Index([0, 13, 12, 11, 10, 9, 8, 7, 6, 5, 4, 3, 2, 1], dtype='int64')"
      ]
     },
     "execution_count": 51,
     "metadata": {},
     "output_type": "execute_result"
    }
   ],
   "source": [
    "raw_train_data=full_text_df.loc[:,['text_s','text_class']]\n",
    "raw_train_data.text_class.value_counts().index"
   ]
  },
  {
   "cell_type": "code",
   "execution_count": 54,
   "metadata": {},
   "outputs": [
    {
     "data": {
      "text/plain": [
       "[Text(0, 0, '13'),\n",
       " Text(0, 0, '12'),\n",
       " Text(0, 0, '11'),\n",
       " Text(0, 0, '10'),\n",
       " Text(0, 0, '9'),\n",
       " Text(0, 0, '8'),\n",
       " Text(0, 0, '7'),\n",
       " Text(0, 0, '6'),\n",
       " Text(0, 0, '5'),\n",
       " Text(0, 0, '4'),\n",
       " Text(0, 0, '3'),\n",
       " Text(0, 0, '2'),\n",
       " Text(0, 0, '1')]"
      ]
     },
     "execution_count": 54,
     "metadata": {},
     "output_type": "execute_result"
    },
    {
     "data": {
      "image/png": "[encoded data removed]",
      "text/plain": [
       "<Figure size 576x432 with 1 Axes>"
      ]
     },
     "metadata": {},
     "output_type": "display_data"
    }
   ],
   "source": [
    "fig ,ax =plt.subplots(1,1,figsize=(8,6))\n",
    "class_vc=train_df.text_class.value_counts()\n",
    "ax.bar(range(13),class_vc)\n",
    "ax.set_xticks(range(13))\n",
    "ax.set_xticklabels(class_vc.index)"
   ]
  },
  {
   "cell_type": "code",
   "execution_count": 72,
   "metadata": {},
   "outputs": [
    {
     "name": "stdout",
     "output_type": "stream",
     "text": [
      "Replaced 0 words with characters with an ordinal >= 128 in the train data.\n"
     ]
    }
   ],
   "source": [
    "our_special_word = 'qwerty'\n",
    "\n",
    "def remove_ascii_words(df):\n",
    "    \"\"\" removes non-ascii characters from the 'texts' column in df.\n",
    "    It returns the words containig non-ascii characers.\n",
    "    \"\"\"\n",
    "    non_ascii_words = []\n",
    "    for i in range(1,1+len(df)):\n",
    "        for word in df.loc[i, 'text_s'].split(' '):\n",
    "            if any([ord(character) >= 128 for character in word]):\n",
    "                non_ascii_words.append(word)\n",
    "                df.loc[i, 'text_s'] = df.loc[i, 'text_s'].replace(word, our_special_word)\n",
    "    return non_ascii_words\n",
    "\n",
    "def get_good_tokens(sentence):\n",
    "    replaced_punctation = list(map(lambda token: re.sub('[^0-9A-Za-z!?]+', '', token), sentence))\n",
    "    removed_punctation = list(filter(lambda token: token, replaced_punctation))\n",
    "    return removed_punctation\n",
    "\n",
    "def w2v_preprocessing(df):\n",
    "    \"\"\" All the preprocessing steps for word2vec are done in this function.\n",
    "    All mutations are done on the dataframe itself. So this function returns\n",
    "    nothing.\n",
    "    \"\"\"\n",
    "    df['text_s'] = df.text_s.str.lower()\n",
    "    df['document_sentences'] = df.text_s.str.split('.')  # split texts into individual sentences\n",
    "    df['tokenized_sentences'] = list(map(lambda sentences:\n",
    "                                         list(map(nltk.word_tokenize, sentences)),\n",
    "                                         df.document_sentences))  # tokenize sentences\n",
    "    df['tokenized_sentences'] = list(map(lambda sentences:\n",
    "                                         list(map(get_good_tokens, sentences)),\n",
    "                                         df.tokenized_sentences))  # remove unwanted characters\n",
    "    df['tokenized_sentences'] = list(map(lambda sentences:\n",
    "                                         list(filter(lambda lst: lst, sentences)),\n",
    "                                         df.tokenized_sentences))  # remove empty lists\n",
    "#w2v would like to have document_sentences and tokenized_sentences###need sentence information\n",
    "#while lda only need text be token to words ###\n",
    "def lda_get_good_tokens(df):\n",
    "    df['text_s'] = df.text_s.str.lower()\n",
    "    df['tokenized_text'] = list(map(nltk.word_tokenize, df.text_s))\n",
    "    df['tokenized_text'] = list(map(get_good_tokens, df.tokenized_text))\n",
    "\n"
   ]
  },
  {
   "cell_type": "markdown",
   "metadata": {},
   "source": [
    "1. w2v would like to have document_sentences and tokenized_sentences###need sentence information\n",
    "1. while lda only need text be token to words ###\n",
    "1. for lda we do stem and remove stop words "
   ]
  },
  {
   "cell_type": "code",
   "execution_count": 73,
   "metadata": {},
   "outputs": [],
   "source": [
    "non_ascii_words = remove_ascii_words(raw_train_data)\n",
    "w2v_preprocessing(raw_train_data)\n",
    "lda_get_good_tokens(raw_train_data)\n",
    "print(\"Replaced {} words with characters with an ordinal >= 128 in the train data.\".format(len(non_ascii_words)))\n",
    "raw_train_data['stemmed_text']=text_noisefree_s"
   ]
  },
  {
   "cell_type": "markdown",
   "metadata": {},
   "source": [
    "### from gensim.corpora import Dictionary"
   ]
  },
  {
   "cell_type": "code",
   "execution_count": 82,
   "metadata": {},
   "outputs": [
    {
     "name": "stdout",
     "output_type": "stream",
     "text": [
      "Found 12035 words.\n",
      "Left with 6284 words.\n"
     ]
    }
   ],
   "source": [
    "from gensim.corpora import Dictionary\n",
    "from gensim.models.ldamulticore import LdaMulticore\n",
    "\n",
    "def document_to_bow(df):\n",
    "    df['bow']=df.stemmed_text.apply(dictionary.doc2bow)\n",
    "    \n",
    "dictionary = Dictionary(documents=raw_train_data.stemmed_text.values)\n",
    "print(\"Found {} words.\".format(len(dictionary.values())))\n",
    "dictionary.filter_extremes(no_above=0.8, no_below=3)\n",
    "dictionary.compactify()  # Reindexes the remaining words after filtering\n",
    "print(\"Left with {} words.\".format(len(dictionary.values())))\n",
    "document_to_bow(raw_train_data)"
   ]
  },
  {
   "cell_type": "code",
   "execution_count": 86,
   "metadata": {},
   "outputs": [
    {
     "data": {
      "image/png": "[encoded data removed]",
      "text/plain": [
       "<Figure size 1440x360 with 1 Axes>"
      ]
     },
     "metadata": {},
     "output_type": "display_data"
    }
   ],
   "source": [
    "def word_frequency_barplot(df, nr_top_words=50):\n",
    "    \"\"\" df should have a column named count.\n",
    "    \"\"\"\n",
    "    fig, ax = plt.subplots(1,1,figsize=(20,5))\n",
    "\n",
    "    sns.barplot(list(range(nr_top_words)), df['count'].values[:nr_top_words], palette='hls', ax=ax)\n",
    "\n",
    "    ax.set_xticks(list(range(nr_top_words)))\n",
    "    ax.set_xticklabels(df.index[:nr_top_words], fontsize=14, rotation=90)\n",
    "    return ax\n",
    "cleansed_words_df = pd.DataFrame.from_dict(dictionary.token2id, orient='index')\n",
    "cleansed_words_df.rename(columns={0: 'id'}, inplace=True)\n",
    "\n",
    "cleansed_words_df['count'] = list(map(lambda id_: dictionary.dfs.get(id_), cleansed_words_df.id))\n",
    "del cleansed_words_df['id']\n",
    "cleansed_words_df.sort_values('count', ascending=False, inplace=True)\n",
    "cleansed_words_df\n",
    "ax = word_frequency_barplot(cleansed_words_df)\n",
    "ax.set_title(\"Document Frequencies (Number of documents a word appears in)\", fontsize=16);"
   ]
  },
  {
   "cell_type": "markdown",
   "metadata": {},
   "source": [
    "### from gensim.models.ldamulticore import LdaMulticore"
   ]
  },
  {
   "cell_type": "code",
   "execution_count": 92,
   "metadata": {},
   "outputs": [],
   "source": [
    "corpus_for_lda=raw_train_data.bow\n",
    "\n",
    "num_topics = 50\n",
    "#A multicore approach to decrease training time\n",
    "LDAmodel = LdaMulticore(corpus=corpus_for_lda,\n",
    "                        id2word=dictionary,\n",
    "                        num_topics=num_topics,\n",
    "                        workers=4,\n",
    "                        chunksize=4000,\n",
    "                        passes=7,\n",
    "                        alpha='asymmetric')"
   ]
  },
  {
   "cell_type": "markdown",
   "metadata": {},
   "source": [
    "## word2vec feat.logistic"
   ]
  }
 ],
 "metadata": {
  "kernelspec": {
   "display_name": "Python 3",
   "language": "python",
   "name": "python3"
  },
  "language_info": {
   "codemirror_mode": {
    "name": "ipython",
    "version": 3
   },
   "file_extension": ".py",
   "mimetype": "text/x-python",
   "name": "python",
   "nbconvert_exporter": "python",
   "pygments_lexer": "ipython3",
   "version": "3.6.6"
  }
 },
 "nbformat": 4,
 "nbformat_minor": 2
}
