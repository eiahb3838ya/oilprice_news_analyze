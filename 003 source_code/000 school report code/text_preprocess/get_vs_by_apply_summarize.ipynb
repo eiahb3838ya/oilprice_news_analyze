{
 "cells": [
  {
   "cell_type": "code",
   "execution_count": 1,
   "metadata": {
    "collapsed": true
   },
   "outputs": [],
   "source": [
    "import nltk,re\n",
    "import pandas as pd\n",
    "import numpy as np\n",
    "from nltk import sent_tokenize,word_tokenize\n",
    "from nltk.corpus import stopwords\n",
    "from nltk.stem import PorterStemmer\n",
    "from pprint import pprint\n",
    "from collections import Counter\n",
    "from math import *\n",
    "from datetime import datetime\n",
    "from progressbar import progressbar\n",
    "# nltk.download('punkt')\n",
    "from gensim.summarization.summarizer import summarize\n",
    "from gensim.summarization import keywords\n",
    "from gensim.summarization.textcleaner import get_sentences\n",
    "from gensim.summarization.textcleaner import clean_text_by_sentences\n",
    "from sklearn.feature_extraction.text import TfidfVectorizer"
   ]
  },
  {
   "cell_type": "code",
   "execution_count": 2,
   "metadata": {
    "collapsed": true
   },
   "outputs": [],
   "source": [
    "def train(train_documents,vector_size=300):\n",
    "    model = Doc2Vec(train_documents, vector_size=vector_size, window=4, min_count=2, workers=12)\n",
    "    model.train(train_documents,total_examples=model.corpus_count,epochs=30)\n",
    "    return(model)\n",
    "def get_content(data_df):\n",
    "    content=data_df.content\n",
    "    content.index = pd.DatetimeIndex(content.index)\n",
    "    content=content.dropna(how=\"any\")\n",
    "    return(content)\n",
    "class Preprocessor:\n",
    "    def __init__(self,stopword=[],use_stem=False,use_summarize=True,summarize_word_count=200):\n",
    "        self.use_stem=use_stem\n",
    "        self.use_summarize=use_summarize\n",
    "        self.summarize_word_count=summarize_word_count\n",
    "        self.stopword=stopword\n",
    "    def stem_and_other_stuff(self,each_news):\n",
    "        ps=PorterStemmer()\n",
    "        return([ps.stem(word.lower()) for word in each_news.split(\" \") if word.isalpha() and word not in self.stopword])\n",
    "    \n",
    "    def check_alpha_tolower(self,each_news):\n",
    "        return([word.lower() for word in each_news.split(\" \") if word.isalpha()])\n",
    "        \n",
    "    def get_tokenized_content(self,content):\n",
    "        tokenized_content_s=content.apply(word_tokenize)\n",
    "        if self.use_stem:        \n",
    "            output_token=tokenized_content_s.apply(self.stem_and_other_stuff)\n",
    "        else:\n",
    "            output_token=tokenized_content_s.apply(self.check_alpha_tolower)\n",
    "        return(output_token)\n",
    "    \n",
    "    def get_counter(self,content):\n",
    "        tokenized_content_s=self.get_tokenized_content(content)\n",
    "        content_counter=Counter()\n",
    "        for aStemmed_token in tokenized_content_s:\n",
    "            content_counter.update(aStemmed_token)\n",
    "#             self.counter = content_counter\n",
    "        return(content_counter)\n",
    "    \n",
    "    def get_summarize(self,content,summarize_ratio=None):\n",
    "        if summarize_ratio:\n",
    "            return(content.apply(lambda txt:summarize(txt,word_count = summarize_word_count)))\n",
    "        else:\n",
    "            return(content.apply(lambda txt:summarize(txt,word_count = self.summarize_word_count)))\n",
    "#             return(content.apply(lambda txt:summarize(txt,ratio = self.summarize_ratio)))\n",
    "    def preprocess(self,content):\n",
    "        if self.use_summarize:\n",
    "            content=content.loc[content.apply(clean_text_by_sentences).apply(list).apply(len).apply(lambda x:x>1)]\n",
    "            content=self.get_summarize(content)\n",
    "        content_counter=self.get_counter(content)\n",
    "        return(content_counter)\n",
    "        \n",
    "        \n",
    "\n",
    "\n",
    "class MyStopWord:\n",
    "    def __init__(self,content_counter,most_common=100,stop_word=None):\n",
    "        from nltk.corpus import stopwords\n",
    "        self.counter_stop_word=[word for word,time in content_counter.most_common(most_common)]\n",
    "        self.user_keep=[]\n",
    "        self.user_define=[]\n",
    "        if stop_word:\n",
    "            self.stop_word=stop_word\n",
    "        else:\n",
    "            self.stop_word=set(self.counter_stop_word+stopwords.words('english')) \n",
    "    def keep(self,word):\n",
    "        self.user_keep.append(word)\n",
    "        self.stop_word.discard(word)\n",
    "    def define(self,word):\n",
    "        self.user_define.append(word)\n",
    "        self.stop_word.add(word)\n",
    "\n",
    "\n",
    "\n",
    "\n",
    "def get_bigram_counts(token,window_size,mystopword):\n",
    "    stop_word = mystopword.stop_word\n",
    "    pair_counts = Counter()\n",
    "   \n",
    "    for tokens in token:\n",
    "        for i in range(len(tokens) - 1):\n",
    "            for distance in range(1, window_size):\n",
    "                if i + distance < len(tokens):\n",
    "                    w1 = tokens[i]\n",
    "                    w2 = tokens[i + distance]\n",
    "                    if w1 not in stop_word and w2 not in stop_word:\n",
    "                        pair_counts[(w1, w2)] += 1\n",
    "    return(pair_counts)\n",
    "def word_to_vector(this_year_token,pairwise_with_windows_list,mystopword,window_size):\n",
    "    this_year_vs=[]\n",
    "    for tokenized_article in progressbar(this_year_token,prefix=\"run word to vector\"):\n",
    "        finder = nltk.BigramCollocationFinder.from_words([word for word in tokenized_article if word not in mystopword.stop_word],window_size=window_size)\n",
    "        this_vs= {key: 0 for key in pairwise_with_windows_list}\n",
    "        for pair,times in finder.ngram_fd.items():\n",
    "            if pair in this_vs.keys():\n",
    "                this_vs[pair]=times\n",
    "        this_year_vs.append(this_vs)            \n",
    "    return(this_year_vs)\n",
    "# class Unigram:\n",
    "#     def __init__(self,target_counter,other_counter):\n",
    "#         self.target_counter = target_counter\n",
    "#         self.other_counter = other_counter\n",
    "        \n",
    "#     def get_different_corpus_set(self,mystopword,TF_OTHER_THRESHOLD=20,TF_TARGET_THRESHOLD=5):\n",
    "#         other_corpus_set=set(key for key,times in self.other_counter.items() if times>TF_OTHER_THRESHOLD)-mystopword.stop_word\n",
    "#         target_corpus_set=set(key for key,times in self.target_counter.items() if times>TF_TARGET_THRESHOLD)-mystopword.stop_word\n",
    "#         self.different_corpus_set = target_corpus_set-other_corpus_set"
   ]
  },
  {
   "cell_type": "markdown",
   "metadata": {},
   "source": [
    "## 定義資料來源"
   ]
  },
  {
   "cell_type": "code",
   "execution_count": 3,
   "metadata": {
    "collapsed": true
   },
   "outputs": [],
   "source": [
    "raw_df = pd.read_csv(\"../../data/crawler_news_data/oilprice_news.csv\")\n",
    "raw_df_cnbc = pd.read_csv(\"../../data/crawler_news_data/cnbc_oil_news.csv\")\n",
    "bdate=pd.bdate_range(\"2009\",\"2019\")\n",
    "\n",
    "raw_df.publish_datetime=pd.DatetimeIndex(raw_df.publish_datetime)\n",
    "raw_df.loc[~raw_df.publish_datetime.isin(bdate),'publish_datetime']=np.nan\n",
    "raw_df.publish_datetime=raw_df.publish_datetime.fillna(method='ffill')\n",
    "\n",
    "raw_df_cnbc.story_publish_datetime=pd.DatetimeIndex(raw_df_cnbc.story_publish_datetime)\n",
    "raw_df_cnbc.loc[~raw_df_cnbc.story_publish_datetime.isin(bdate),'story_publish_datetime']=np.nan\n",
    "raw_df_cnbc.story_publish_datetime=raw_df_cnbc.story_publish_datetime.fillna(method='ffill')\n",
    "\n",
    "data_df=raw_df.sort_values(by=\"publish_datetime\",ascending=True).set_index('publish_datetime')\n",
    "data_df_cnbc = raw_df_cnbc.sort_values(by=\"story_publish_datetime\",ascending=True).set_index('story_publish_datetime')\n",
    "data_df_oilprice = pd.DataFrame({\"date\":raw_df.publish_datetime,\"content\":raw_df.content})\n",
    "data_df_cnbc = pd.DataFrame({\"date\":raw_df_cnbc.story_publish_datetime,\"content\":raw_df_cnbc.story_full_article})\n",
    "data_df_oilprice_cnbc = data_df_oilprice.append(data_df_cnbc)\n",
    "data_df_oilprice_cnbc = data_df_oilprice_cnbc.sort_values(by=\"date\",ascending=True).set_index('date')\n",
    "raw_content = get_content(data_df_oilprice_cnbc)\n",
    "raw_content=raw_content.loc[raw_content.apply(clean_text_by_sentences).apply(list).apply(len).apply(lambda x:x>1)]"
   ]
  },
  {
   "cell_type": "code",
   "execution_count": 17,
   "metadata": {},
   "outputs": [],
   "source": [
    "pd.DataFrame(raw_content).to_csv(\"../../data/crawler_news_data/oilprice_cnbc_news_clean.csv\")"
   ]
  },
  {
   "cell_type": "code",
   "execution_count": 18,
   "metadata": {},
   "outputs": [
    {
     "data": {
      "text/html": [
       "<div>\n",
       "<style scoped>\n",
       "    .dataframe tbody tr th:only-of-type {\n",
       "        vertical-align: middle;\n",
       "    }\n",
       "\n",
       "    .dataframe tbody tr th {\n",
       "        vertical-align: top;\n",
       "    }\n",
       "\n",
       "    .dataframe thead th {\n",
       "        text-align: right;\n",
       "    }\n",
       "</style>\n",
       "<table border=\"1\" class=\"dataframe\">\n",
       "  <thead>\n",
       "    <tr style=\"text-align: right;\">\n",
       "      <th></th>\n",
       "      <th>date</th>\n",
       "      <th>content</th>\n",
       "    </tr>\n",
       "  </thead>\n",
       "  <tbody>\n",
       "    <tr>\n",
       "      <th>0</th>\n",
       "      <td>2009-07-24</td>\n",
       "      <td>Crude oil, commonly known as petroleum, is a l...</td>\n",
       "    </tr>\n",
       "    <tr>\n",
       "      <th>1</th>\n",
       "      <td>2009-09-21</td>\n",
       "      <td>For decades now, oil has often been vilified a...</td>\n",
       "    </tr>\n",
       "    <tr>\n",
       "      <th>2</th>\n",
       "      <td>2009-09-24</td>\n",
       "      <td>People often say: “You can’t squeeze blood fro...</td>\n",
       "    </tr>\n",
       "    <tr>\n",
       "      <th>3</th>\n",
       "      <td>2009-10-21</td>\n",
       "      <td>Currently there is a lot of debate going on re...</td>\n",
       "    </tr>\n",
       "    <tr>\n",
       "      <th>4</th>\n",
       "      <td>2009-11-16</td>\n",
       "      <td>The term \"Big Oil,\" which initially was coined...</td>\n",
       "    </tr>\n",
       "    <tr>\n",
       "      <th>5</th>\n",
       "      <td>2009-12-02</td>\n",
       "      <td>Some people arbitrarily speak about oil as if ...</td>\n",
       "    </tr>\n",
       "    <tr>\n",
       "      <th>6</th>\n",
       "      <td>2010-01-06</td>\n",
       "      <td>The next big thing is here in the Canadian oil...</td>\n",
       "    </tr>\n",
       "    <tr>\n",
       "      <th>7</th>\n",
       "      <td>2010-01-15</td>\n",
       "      <td>“When you think of Canada, which qualities com...</td>\n",
       "    </tr>\n",
       "    <tr>\n",
       "      <th>8</th>\n",
       "      <td>2010-01-22</td>\n",
       "      <td>Oil Market roundup for 01/18/2010 – 01/22/2010...</td>\n",
       "    </tr>\n",
       "    <tr>\n",
       "      <th>9</th>\n",
       "      <td>2010-01-26</td>\n",
       "      <td>Here's an interesting one in the realm of oil ...</td>\n",
       "    </tr>\n",
       "    <tr>\n",
       "      <th>10</th>\n",
       "      <td>2010-01-27</td>\n",
       "      <td>As the recession fades from the Canadian oil s...</td>\n",
       "    </tr>\n",
       "    <tr>\n",
       "      <th>11</th>\n",
       "      <td>2010-02-01</td>\n",
       "      <td>Often the green movement’s whipping boy, the o...</td>\n",
       "    </tr>\n",
       "    <tr>\n",
       "      <th>12</th>\n",
       "      <td>2010-02-11</td>\n",
       "      <td>Essentially, the U.S. has a lot of spent nucle...</td>\n",
       "    </tr>\n",
       "    <tr>\n",
       "      <th>13</th>\n",
       "      <td>2010-02-15</td>\n",
       "      <td>News came yesterday that oil major BP is close...</td>\n",
       "    </tr>\n",
       "    <tr>\n",
       "      <th>14</th>\n",
       "      <td>2010-02-16</td>\n",
       "      <td>This is even assuming that the U.S. pushes al...</td>\n",
       "    </tr>\n",
       "    <tr>\n",
       "      <th>15</th>\n",
       "      <td>2010-02-23</td>\n",
       "      <td>The UK Department of Trade and Industry (Oil a...</td>\n",
       "    </tr>\n",
       "    <tr>\n",
       "      <th>16</th>\n",
       "      <td>2010-02-26</td>\n",
       "      <td>Texas became the latest state to launch an env...</td>\n",
       "    </tr>\n",
       "    <tr>\n",
       "      <th>17</th>\n",
       "      <td>2010-03-02</td>\n",
       "      <td>In a Securities and Exchange disclosure from l...</td>\n",
       "    </tr>\n",
       "    <tr>\n",
       "      <th>18</th>\n",
       "      <td>2010-03-04</td>\n",
       "      <td>Governors of Montana and North Dakota met with...</td>\n",
       "    </tr>\n",
       "    <tr>\n",
       "      <th>19</th>\n",
       "      <td>2010-03-17</td>\n",
       "      <td>If I may, I would like to rebut or add a littl...</td>\n",
       "    </tr>\n",
       "    <tr>\n",
       "      <th>20</th>\n",
       "      <td>2010-03-17</td>\n",
       "      <td>As T. Boone Pickens is touting, we could repla...</td>\n",
       "    </tr>\n",
       "    <tr>\n",
       "      <th>21</th>\n",
       "      <td>2010-03-19</td>\n",
       "      <td>The increasing use in the United States of gas...</td>\n",
       "    </tr>\n",
       "    <tr>\n",
       "      <th>22</th>\n",
       "      <td>2010-03-30</td>\n",
       "      <td>The latest draft of European Union fuel standa...</td>\n",
       "    </tr>\n",
       "    <tr>\n",
       "      <th>23</th>\n",
       "      <td>2010-04-01</td>\n",
       "      <td>President Barack Obama’s move to lift a morato...</td>\n",
       "    </tr>\n",
       "    <tr>\n",
       "      <th>24</th>\n",
       "      <td>2010-04-05</td>\n",
       "      <td>SandRidge Energy’s agreement this week to acqu...</td>\n",
       "    </tr>\n",
       "    <tr>\n",
       "      <th>25</th>\n",
       "      <td>2010-04-16</td>\n",
       "      <td>The acquisition of a 9% stake in the Syncrude ...</td>\n",
       "    </tr>\n",
       "    <tr>\n",
       "      <th>26</th>\n",
       "      <td>2010-04-16</td>\n",
       "      <td>Iran, the world's fifth-largest oil producing ...</td>\n",
       "    </tr>\n",
       "    <tr>\n",
       "      <th>27</th>\n",
       "      <td>2010-05-03</td>\n",
       "      <td>As oil continues to pour into the Gulf of Mexi...</td>\n",
       "    </tr>\n",
       "    <tr>\n",
       "      <th>28</th>\n",
       "      <td>2010-05-04</td>\n",
       "      <td>The oil spill in the Gulf of Mexico from a col...</td>\n",
       "    </tr>\n",
       "    <tr>\n",
       "      <th>29</th>\n",
       "      <td>2010-05-06</td>\n",
       "      <td>While the oil spill from a sunken drilling rig...</td>\n",
       "    </tr>\n",
       "    <tr>\n",
       "      <th>...</th>\n",
       "      <td>...</td>\n",
       "      <td>...</td>\n",
       "    </tr>\n",
       "    <tr>\n",
       "      <th>4971</th>\n",
       "      <td>2018-11-13</td>\n",
       "      <td>(Repeats column that ran on Tuesday, with no c...</td>\n",
       "    </tr>\n",
       "    <tr>\n",
       "      <th>4972</th>\n",
       "      <td>2018-11-13</td>\n",
       "      <td>(Updates prices, adds new comment) NEW YORK, N...</td>\n",
       "    </tr>\n",
       "    <tr>\n",
       "      <th>4973</th>\n",
       "      <td>2018-11-13</td>\n",
       "      <td>The oil market is undergoing a stunning revers...</td>\n",
       "    </tr>\n",
       "    <tr>\n",
       "      <th>4974</th>\n",
       "      <td>2018-11-13</td>\n",
       "      <td>Crude oil production outside the Organization ...</td>\n",
       "    </tr>\n",
       "    <tr>\n",
       "      <th>4975</th>\n",
       "      <td>2018-11-13</td>\n",
       "      <td>(John Kemp is a Reuters market analyst. The vi...</td>\n",
       "    </tr>\n",
       "    <tr>\n",
       "      <th>4976</th>\n",
       "      <td>2018-11-13</td>\n",
       "      <td>The Organization of the Petroleum Exporting Co...</td>\n",
       "    </tr>\n",
       "    <tr>\n",
       "      <th>4977</th>\n",
       "      <td>2018-11-13</td>\n",
       "      <td>Oil prices fell to a one-year low on Tuesday, ...</td>\n",
       "    </tr>\n",
       "    <tr>\n",
       "      <th>4978</th>\n",
       "      <td>2018-11-13</td>\n",
       "      <td>Major oil producing countries in the Middle Ea...</td>\n",
       "    </tr>\n",
       "    <tr>\n",
       "      <th>4979</th>\n",
       "      <td>2018-11-13</td>\n",
       "      <td>LONDON, Nov 13 (Reuters) - Oil prices fell mor...</td>\n",
       "    </tr>\n",
       "    <tr>\n",
       "      <th>4980</th>\n",
       "      <td>2018-11-13</td>\n",
       "      <td>One of the large Canadian oil producers, Cenov...</td>\n",
       "    </tr>\n",
       "    <tr>\n",
       "      <th>4981</th>\n",
       "      <td>2018-11-13</td>\n",
       "      <td>Big Oil should do all it can to embrace fast-i...</td>\n",
       "    </tr>\n",
       "    <tr>\n",
       "      <th>4982</th>\n",
       "      <td>2018-11-13</td>\n",
       "      <td>OPEC continued to reduce its forecast for oil ...</td>\n",
       "    </tr>\n",
       "    <tr>\n",
       "      <th>4983</th>\n",
       "      <td>2018-11-13</td>\n",
       "      <td>LONDON, Nov 13 (Reuters) - Oil prices fell mor...</td>\n",
       "    </tr>\n",
       "    <tr>\n",
       "      <th>4984</th>\n",
       "      <td>2018-11-13</td>\n",
       "      <td>Global energy demand is set to skyrocket over ...</td>\n",
       "    </tr>\n",
       "    <tr>\n",
       "      <th>4985</th>\n",
       "      <td>2018-11-13</td>\n",
       "      <td>U.S. shale oil producers would need to add the...</td>\n",
       "    </tr>\n",
       "    <tr>\n",
       "      <th>4986</th>\n",
       "      <td>2018-11-13</td>\n",
       "      <td>A European initiative aimed at bypassing U.S. ...</td>\n",
       "    </tr>\n",
       "    <tr>\n",
       "      <th>4987</th>\n",
       "      <td>2018-11-14</td>\n",
       "      <td>Oil rose on Wednesday, recouping some of the p...</td>\n",
       "    </tr>\n",
       "    <tr>\n",
       "      <th>4988</th>\n",
       "      <td>2018-11-14</td>\n",
       "      <td>TORONTO, Nov 14 (Reuters) - The Canadian dolla...</td>\n",
       "    </tr>\n",
       "    <tr>\n",
       "      <th>4989</th>\n",
       "      <td>2018-11-14</td>\n",
       "      <td>The threat of cyber espionage goes above and b...</td>\n",
       "    </tr>\n",
       "    <tr>\n",
       "      <th>4990</th>\n",
       "      <td>2018-11-14</td>\n",
       "      <td>LONDON, Nov 14 (Reuters) - Oil rose on Wednesd...</td>\n",
       "    </tr>\n",
       "    <tr>\n",
       "      <th>4991</th>\n",
       "      <td>2018-11-14</td>\n",
       "      <td>OPEC officials quickly sought to reassure ener...</td>\n",
       "    </tr>\n",
       "    <tr>\n",
       "      <th>4992</th>\n",
       "      <td>2018-11-14</td>\n",
       "      <td>LONDON, Nov 14 (Reuters) - Oil rose towards $6...</td>\n",
       "    </tr>\n",
       "    <tr>\n",
       "      <th>4993</th>\n",
       "      <td>2018-11-14</td>\n",
       "      <td>Global oil supply will outpace demand thro...</td>\n",
       "    </tr>\n",
       "    <tr>\n",
       "      <th>4994</th>\n",
       "      <td>2018-11-14</td>\n",
       "      <td>OPEC's secretary general told CNBC that oil pr...</td>\n",
       "    </tr>\n",
       "    <tr>\n",
       "      <th>4995</th>\n",
       "      <td>2018-11-14</td>\n",
       "      <td>European stocks moved higher Wednesday with so...</td>\n",
       "    </tr>\n",
       "    <tr>\n",
       "      <th>4996</th>\n",
       "      <td>2018-11-14</td>\n",
       "      <td>US crude struggles near one-year low after 7 p...</td>\n",
       "    </tr>\n",
       "    <tr>\n",
       "      <th>4997</th>\n",
       "      <td>2018-11-14</td>\n",
       "      <td>SINGAPORE, Nov 14 (Reuters) - Oil markets fell...</td>\n",
       "    </tr>\n",
       "    <tr>\n",
       "      <th>4998</th>\n",
       "      <td>2018-11-14</td>\n",
       "      <td>Decisions made by OPEC and its allies to manag...</td>\n",
       "    </tr>\n",
       "    <tr>\n",
       "      <th>4999</th>\n",
       "      <td>2018-11-14</td>\n",
       "      <td>LONDON, Nov 14 (Reuters) - Oil rose on Wednesd...</td>\n",
       "    </tr>\n",
       "    <tr>\n",
       "      <th>5000</th>\n",
       "      <td>2018-11-14</td>\n",
       "      <td>SINGAPORE, Nov 14 (Reuters) - Oil struggled to...</td>\n",
       "    </tr>\n",
       "  </tbody>\n",
       "</table>\n",
       "<p>5001 rows × 2 columns</p>\n",
       "</div>"
      ],
      "text/plain": [
       "            date                                            content\n",
       "0     2009-07-24  Crude oil, commonly known as petroleum, is a l...\n",
       "1     2009-09-21  For decades now, oil has often been vilified a...\n",
       "2     2009-09-24  People often say: “You can’t squeeze blood fro...\n",
       "3     2009-10-21  Currently there is a lot of debate going on re...\n",
       "4     2009-11-16  The term \"Big Oil,\" which initially was coined...\n",
       "5     2009-12-02  Some people arbitrarily speak about oil as if ...\n",
       "6     2010-01-06  The next big thing is here in the Canadian oil...\n",
       "7     2010-01-15  “When you think of Canada, which qualities com...\n",
       "8     2010-01-22  Oil Market roundup for 01/18/2010 – 01/22/2010...\n",
       "9     2010-01-26  Here's an interesting one in the realm of oil ...\n",
       "10    2010-01-27  As the recession fades from the Canadian oil s...\n",
       "11    2010-02-01  Often the green movement’s whipping boy, the o...\n",
       "12    2010-02-11  Essentially, the U.S. has a lot of spent nucle...\n",
       "13    2010-02-15  News came yesterday that oil major BP is close...\n",
       "14    2010-02-16   This is even assuming that the U.S. pushes al...\n",
       "15    2010-02-23  The UK Department of Trade and Industry (Oil a...\n",
       "16    2010-02-26  Texas became the latest state to launch an env...\n",
       "17    2010-03-02  In a Securities and Exchange disclosure from l...\n",
       "18    2010-03-04  Governors of Montana and North Dakota met with...\n",
       "19    2010-03-17  If I may, I would like to rebut or add a littl...\n",
       "20    2010-03-17  As T. Boone Pickens is touting, we could repla...\n",
       "21    2010-03-19  The increasing use in the United States of gas...\n",
       "22    2010-03-30  The latest draft of European Union fuel standa...\n",
       "23    2010-04-01  President Barack Obama’s move to lift a morato...\n",
       "24    2010-04-05  SandRidge Energy’s agreement this week to acqu...\n",
       "25    2010-04-16  The acquisition of a 9% stake in the Syncrude ...\n",
       "26    2010-04-16  Iran, the world's fifth-largest oil producing ...\n",
       "27    2010-05-03  As oil continues to pour into the Gulf of Mexi...\n",
       "28    2010-05-04  The oil spill in the Gulf of Mexico from a col...\n",
       "29    2010-05-06  While the oil spill from a sunken drilling rig...\n",
       "...          ...                                                ...\n",
       "4971  2018-11-13  (Repeats column that ran on Tuesday, with no c...\n",
       "4972  2018-11-13  (Updates prices, adds new comment) NEW YORK, N...\n",
       "4973  2018-11-13  The oil market is undergoing a stunning revers...\n",
       "4974  2018-11-13  Crude oil production outside the Organization ...\n",
       "4975  2018-11-13  (John Kemp is a Reuters market analyst. The vi...\n",
       "4976  2018-11-13  The Organization of the Petroleum Exporting Co...\n",
       "4977  2018-11-13  Oil prices fell to a one-year low on Tuesday, ...\n",
       "4978  2018-11-13  Major oil producing countries in the Middle Ea...\n",
       "4979  2018-11-13  LONDON, Nov 13 (Reuters) - Oil prices fell mor...\n",
       "4980  2018-11-13  One of the large Canadian oil producers, Cenov...\n",
       "4981  2018-11-13  Big Oil should do all it can to embrace fast-i...\n",
       "4982  2018-11-13  OPEC continued to reduce its forecast for oil ...\n",
       "4983  2018-11-13  LONDON, Nov 13 (Reuters) - Oil prices fell mor...\n",
       "4984  2018-11-13  Global energy demand is set to skyrocket over ...\n",
       "4985  2018-11-13  U.S. shale oil producers would need to add the...\n",
       "4986  2018-11-13  A European initiative aimed at bypassing U.S. ...\n",
       "4987  2018-11-14  Oil rose on Wednesday, recouping some of the p...\n",
       "4988  2018-11-14  TORONTO, Nov 14 (Reuters) - The Canadian dolla...\n",
       "4989  2018-11-14  The threat of cyber espionage goes above and b...\n",
       "4990  2018-11-14  LONDON, Nov 14 (Reuters) - Oil rose on Wednesd...\n",
       "4991  2018-11-14  OPEC officials quickly sought to reassure ener...\n",
       "4992  2018-11-14  LONDON, Nov 14 (Reuters) - Oil rose towards $6...\n",
       "4993  2018-11-14      Global oil supply will outpace demand thro...\n",
       "4994  2018-11-14  OPEC's secretary general told CNBC that oil pr...\n",
       "4995  2018-11-14  European stocks moved higher Wednesday with so...\n",
       "4996  2018-11-14  US crude struggles near one-year low after 7 p...\n",
       "4997  2018-11-14  SINGAPORE, Nov 14 (Reuters) - Oil markets fell...\n",
       "4998  2018-11-14  Decisions made by OPEC and its allies to manag...\n",
       "4999  2018-11-14  LONDON, Nov 14 (Reuters) - Oil rose on Wednesd...\n",
       "5000  2018-11-14  SINGAPORE, Nov 14 (Reuters) - Oil struggled to...\n",
       "\n",
       "[5001 rows x 2 columns]"
      ]
     },
     "execution_count": 18,
     "metadata": {},
     "output_type": "execute_result"
    }
   ],
   "source": [
    "pd.read_csv(\"../../data/crawler_news_data/oilprice_cnbc_news_clean.csv\")"
   ]
  },
  {
   "cell_type": "code",
   "execution_count": 327,
   "metadata": {},
   "outputs": [
    {
     "name": "stdout",
     "output_type": "stream",
     "text": [
      "2017-12 2018-08 2018-09 2018-10\n"
     ]
    }
   ],
   "source": [
    "TRAIN_START_DATE = \"2017-12\"\n",
    "\n",
    "TRAIN_INTIVAL = 8\n",
    "TEST_INTIVAL = 1\n",
    "\n",
    "\n",
    "from_date = TRAIN_START_DATE\n",
    "to_date = str(np.datetime64(TRAIN_START_DATE) +\n",
    "              np.timedelta64(TRAIN_INTIVAL, 'M'))\n",
    "test_from_date = str(np.datetime64(to_date) +\n",
    "              np.timedelta64(1, 'M'))\n",
    "test_to_date = str(np.datetime64(test_from_date)+np.timedelta64(TEST_INTIVAL, 'M'))\n",
    "\n",
    "print(from_date,to_date,test_from_date,test_to_date)\n",
    "window_size=5"
   ]
  },
  {
   "cell_type": "code",
   "execution_count": 6,
   "metadata": {
    "collapsed": true
   },
   "outputs": [],
   "source": [
    "preprocesser=Preprocessor()"
   ]
  },
  {
   "cell_type": "code",
   "execution_count": 12,
   "metadata": {},
   "outputs": [],
   "source": [
    "# summarized_content=preprocesser.get_summarize(raw_content)\n",
    "# summarized_df = pd.DataFrame(summarized_content)\n",
    "# summarized_df = summarized_df.loc[summarized_df.content.apply(len)>1]\n",
    "# summarized_df.to_csv(\"../../data/crawler_news_data/oilprice_cnbc_news_summarized.csv\")\n",
    "summarized_content = pd.read_csv(\"../../data/crawler_news_data/oilprice_cnbc_news_summarized.csv\")"
   ]
  },
  {
   "cell_type": "markdown",
   "metadata": {},
   "source": [
    "## 建立stopword"
   ]
  },
  {
   "cell_type": "code",
   "execution_count": 329,
   "metadata": {
    "collapsed": true
   },
   "outputs": [],
   "source": [
    "all_year_counter = preprocesser.preprocess(content=raw_content)\n",
    "mystopword=MyStopWord(content_counter=all_year_counter,most_common=100)\n",
    "mystopword.define('c')\n",
    "mystopword.keep('demand')"
   ]
  },
  {
   "cell_type": "markdown",
   "metadata": {},
   "source": [
    "## 用Target corpus - Other corpus find dictionary"
   ]
  },
  {
   "cell_type": "markdown",
   "metadata": {},
   "source": [
    "### 1. effectivate news date"
   ]
  },
  {
   "cell_type": "code",
   "execution_count": 330,
   "metadata": {},
   "outputs": [
    {
     "data": {
      "text/plain": [
       "DatetimeIndex(['2013-11-29', '2013-12-02', '2014-01-13', '2014-01-20',\n",
       "               '2014-01-21', '2014-02-05', '2014-02-17', '2014-02-27',\n",
       "               '2014-04-07', '2014-06-11',\n",
       "               ...\n",
       "               '2018-06-21', '2018-06-22', '2018-06-25', '2018-06-26',\n",
       "               '2018-07-18', '2018-08-28', '2018-09-10', '2018-09-17',\n",
       "               '2018-09-27', '2018-09-28'],\n",
       "              dtype='datetime64[ns]', name='date', length=211, freq=None)"
      ]
     },
     "execution_count": 330,
     "metadata": {},
     "output_type": "execute_result"
    }
   ],
   "source": [
    "effective_news_df = pd.read_csv(\"../../data/crude_oil_price/effective_news_date_percentage_positive.csv\")\n",
    "# effective_news_df = pd.read_csv(effective_news_source)\n",
    "effective_news_date = effective_news_df['date']\n",
    "effective_news_date=pd.DatetimeIndex(effective_news_date)\n",
    "effective_news_date"
   ]
  },
  {
   "cell_type": "markdown",
   "metadata": {},
   "source": [
    "### 2. find target and other corpus"
   ]
  },
  {
   "cell_type": "code",
   "execution_count": 331,
   "metadata": {
    "collapsed": true
   },
   "outputs": [],
   "source": [
    "summarized_content=preprocesser.get_summarize(raw_content)\n",
    "\n",
    "train_content = summarized_content[from_date:to_date]\n",
    "train_tokenized_content=preprocesser.get_tokenized_content(train_content)\n",
    "\n",
    "target_content = train_content.loc[train_content.index.isin(effective_news_date.values)]\n",
    "target_tokenized_content=preprocesser.get_tokenized_content(target_content)\n",
    "\n",
    "other_content = train_content.loc[~train_content.index.isin(effective_news_date.values)]\n",
    "other_tokenized_content=preprocesser.get_tokenized_content(other_content)"
   ]
  },
  {
   "cell_type": "markdown",
   "metadata": {},
   "source": [
    "### 3. find bigram dictionary"
   ]
  },
  {
   "cell_type": "code",
   "execution_count": 332,
   "metadata": {},
   "outputs": [
    {
     "name": "stdout",
     "output_type": "stream",
     "text": [
      "len(pairwise_dictionary) 232\n"
     ]
    }
   ],
   "source": [
    "TF_TARGET_THRESHOLD=2\n",
    "OTHER_TARGET_THRESHOLD=20\n",
    "\n",
    "target_bigram_count=get_bigram_counts(target_tokenized_content,window_size=window_size,mystopword=mystopword)\n",
    "other_bigram_count=get_bigram_counts(other_tokenized_content,window_size=window_size,mystopword=mystopword)\n",
    "\n",
    "target_corpus_set=set([key for key,times in target_bigram_count.most_common(1000) if times>TF_TARGET_THRESHOLD])\n",
    "other_corpus_set=set([key for key,times in other_bigram_count.items() if times>OTHER_TARGET_THRESHOLD])\n",
    "\n",
    "pairwise_dictionary = target_corpus_set - other_corpus_set\n",
    "print(\"len(pairwise_dictionary)\",len(pairwise_dictionary))"
   ]
  },
  {
   "cell_type": "code",
   "execution_count": 333,
   "metadata": {},
   "outputs": [
    {
     "data": {
      "text/plain": [
       "400"
      ]
     },
     "execution_count": 333,
     "metadata": {},
     "output_type": "execute_result"
    }
   ],
   "source": [
    "train_bigram_count=get_bigram_counts(train_tokenized_content,window_size=window_size,mystopword=mystopword)\n",
    "pairwise_dictionary=[key for key , times in train_bigram_count.most_common(400)]\n",
    "len(pairwise_dictionary)"
   ]
  },
  {
   "cell_type": "markdown",
   "metadata": {},
   "source": [
    "## 4. word to vector"
   ]
  },
  {
   "cell_type": "code",
   "execution_count": 334,
   "metadata": {},
   "outputs": [
    {
     "name": "stderr",
     "output_type": "stream",
     "text": [
      "run word to vector100% (1965 of 1965) |##| Elapsed Time: 0:00:01 Time:  0:00:01\n"
     ]
    }
   ],
   "source": [
    "train_vs = word_to_vector(train_tokenized_content,pairwise_dictionary,mystopword,window_size)\n",
    "train_vs_df=pd.DataFrame(train_vs)\n",
    "train_vs_df=train_vs_df.set_index(pd.DatetimeIndex(train_content.index))"
   ]
  },
  {
   "cell_type": "code",
   "execution_count": 335,
   "metadata": {},
   "outputs": [
    {
     "name": "stdout",
     "output_type": "stream",
     "text": [
      "target: 29.86230248306998\n",
      "other: 52.13231850117096\n"
     ]
    },
    {
     "name": "stderr",
     "output_type": "stream",
     "text": [
      "C:\\Users\\eiahb\\AppData\\Local\\conda\\conda\\envs\\env_futures\\lib\\site-packages\\ipykernel_launcher.py:1: FutureWarning: \n",
      "Passing list-likes to .loc or [] with any missing label will raise\n",
      "KeyError in the future, you can use .reindex() as an alternative.\n",
      "\n",
      "See the documentation here:\n",
      "https://pandas.pydata.org/pandas-docs/stable/indexing.html#deprecate-loc-reindex-listlike\n",
      "  \"\"\"Entry point for launching an IPython kernel.\n"
     ]
    }
   ],
   "source": [
    "print(\"target:\",train_vs_df.loc[effective_news_date.values].sum(axis=1).mean())\n",
    "print(\"other:\",train_vs_df.loc[~train_content.index.isin(effective_news_date.values)].sum(axis=1).mean())"
   ]
  },
  {
   "cell_type": "code",
   "execution_count": 336,
   "metadata": {
    "collapsed": true
   },
   "outputs": [],
   "source": [
    "train_vs_df['tags'] = 0\n",
    "train_vs_df.loc[train_vs_df.index.isin(effective_news_date.values),'tags']=1\n",
    "train_vs_df.to_csv(\"../../data/train_test_dataset/oilprice_cnbc_new_train.csv\")"
   ]
  },
  {
   "cell_type": "markdown",
   "metadata": {},
   "source": [
    "## Generate Test Data"
   ]
  },
  {
   "cell_type": "code",
   "execution_count": 337,
   "metadata": {},
   "outputs": [
    {
     "name": "stderr",
     "output_type": "stream",
     "text": [
      "run word to vector100% (572 of 572) |####| Elapsed Time: 0:00:00 Time:  0:00:00\n"
     ]
    }
   ],
   "source": [
    "test_content = summarized_content[test_from_date:test_to_date]\n",
    "test_tokenized_content = preprocesser.get_tokenized_content(content=test_content)\n",
    "test_vs = word_to_vector(test_tokenized_content,pairwise_dictionary,mystopword,window_size)\n",
    "test_vs_df=pd.DataFrame(test_vs)\n",
    "test_vs_df=test_vs_df.set_index(pd.DatetimeIndex(test_content.index))\n",
    "test_vs_df['tags'] = 0\n",
    "test_vs_df.loc[test_vs_df.index.isin(effective_news_date.values),'tags'] =1\n",
    "test_vs_df.to_csv(\"../../data/train_test_dataset/oilprice_cnbc_new_test.csv\")"
   ]
  },
  {
   "cell_type": "code",
   "execution_count": 338,
   "metadata": {},
   "outputs": [
    {
     "name": "stdout",
     "output_type": "stream",
     "text": [
      "target: 55.81578947368421\n",
      "other: 56.98314606741573\n",
      "400\n"
     ]
    }
   ],
   "source": [
    "print(\"target:\",test_vs_df.loc[test_content.index.isin(effective_news_date.values)].sum(axis=1).mean())\n",
    "print(\"other:\",test_vs_df.loc[~test_content.index.isin(effective_news_date.values)].sum(axis=1).mean())\n",
    "print(len(pairwise_dictionary))"
   ]
  },
  {
   "cell_type": "markdown",
   "metadata": {},
   "source": [
    "## generate by Tfidf"
   ]
  },
  {
   "cell_type": "code",
   "execution_count": 314,
   "metadata": {
    "collapsed": true
   },
   "outputs": [],
   "source": [
    "tfidf=TfidfVectorizer()"
   ]
  },
  {
   "cell_type": "code",
   "execution_count": 317,
   "metadata": {
    "collapsed": true
   },
   "outputs": [],
   "source": [
    "tfidf.fit(summarized_content)\n",
    "test_tfidf_vs=tfidf.transform(test_content)\n",
    "train_tfidf_vs=tfidf.transform(train_content)"
   ]
  },
  {
   "cell_type": "code",
   "execution_count": 325,
   "metadata": {
    "collapsed": true
   },
   "outputs": [],
   "source": [
    "train_tfidf_vs_df=pd.DataFrame(train_tfidf_vs.toarray())\n",
    "train_tfidf_vs_df=train_tfidf_vs_df.set_index(pd.DatetimeIndex(train_content.index))\n",
    "train_tfidf_vs_df['tags'] = 0\n",
    "train_tfidf_vs_df.loc[train_tfidf_vs_df.index.isin(effective_news_date.values),'tags']=1\n",
    "train_tfidf_vs_df.to_csv(\"../../data/train_test_dataset/oilprice_cnbc_new_train.csv\")\n",
    "\n",
    "test_tfidf_vs_df=pd.DataFrame(test_tfidf_vs.toarray())\n",
    "test_tfidf_vs_df=test_tfidf_vs_df.set_index(pd.DatetimeIndex(test_content.index))\n",
    "test_tfidf_vs_df['tags'] = 0\n",
    "test_tfidf_vs_df.loc[test_tfidf_vs_df.index.isin(effective_news_date.values),'tags'] =1\n",
    "test_tfidf_vs_df.to_csv(\"../../data/train_test_dataset/oilprice_cnbc_new_test.csv\")"
   ]
  },
  {
   "cell_type": "code",
   "execution_count": null,
   "metadata": {
    "collapsed": true
   },
   "outputs": [],
   "source": []
  }
 ],
 "metadata": {
  "kernelspec": {
   "display_name": "Python 3",
   "language": "python",
   "name": "python3"
  },
  "language_info": {
   "codemirror_mode": {
    "name": "ipython",
    "version": 3
   },
   "file_extension": ".py",
   "mimetype": "text/x-python",
   "name": "python",
   "nbconvert_exporter": "python",
   "pygments_lexer": "ipython3",
   "version": "3.6.6"
  }
 },
 "nbformat": 4,
 "nbformat_minor": 2
}
