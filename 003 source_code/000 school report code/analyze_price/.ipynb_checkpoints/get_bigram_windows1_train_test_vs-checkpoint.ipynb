{
 "cells": [
  {
   "cell_type": "code",
   "execution_count": 1,
   "metadata": {},
   "outputs": [],
   "source": [
    "import nltk,re\n",
    "import pandas as pd\n",
    "from nltk import sent_tokenize,word_tokenize\n",
    "from nltk.corpus import stopwords\n",
    "from nltk.stem import PorterStemmer\n",
    "from pprint import pprint\n",
    "from collections import Counter\n",
    "from math import *\n",
    "from datetime import datetime\n",
    "# nltk.download('punkt')"
   ]
  },
  {
   "cell_type": "code",
   "execution_count": 12,
   "metadata": {},
   "outputs": [],
   "source": [
    "def get_content(data_df):\n",
    "    content=data_df.content\n",
    "    content.index = pd.DatetimeIndex(content.index)\n",
    "    content=content.dropna(how=\"any\")\n",
    "    return(content)\n",
    "class Preprocessor:\n",
    "    def __init__(self,path=\"\",content=False):\n",
    "        if len(path)>1:\n",
    "            raw_df = pd.read_csv(path)\n",
    "            self.data_df = raw_df.sort_values(by=\"publish_datetime\",ascending=True).set_index('publish_datetime')\n",
    "            content=self.data_df.content\n",
    "            content.index = pd.DatetimeIndex(content.index)\n",
    "            content=content.dropna(how=\"any\")\n",
    "            self.content = content\n",
    "        else:\n",
    "            self.content = content\n",
    "    def stem_and_other_stuff(self,each_news):\n",
    "        ps=PorterStemmer()\n",
    "        return([ps.stem(word.lower()) for word in each_news if word.isalpha()])\n",
    "    def check_alpha_tolower(self,each_news):\n",
    "        return([word.lower() for word in each_news if word.isalpha()])\n",
    "    def get_content_from_date(self,from_date,to_date):\n",
    "        self.content = self.content[from_date:to_date]\n",
    "    def to_counter(self,stem=False):\n",
    "        self.token_content=self.content.apply(word_tokenize)\n",
    "        if stem:        \n",
    "            self.tokens=self.token_content.apply(self.stem_and_other_stuff)\n",
    "        else:\n",
    "            self.tokens=self.token_content.apply(self.check_alpha_tolower)\n",
    "        content_counter = Counter()\n",
    "        for news in self.tokens:\n",
    "            content_counter.update(news)\n",
    "        self.counter = content_counter\n",
    "\n",
    "\n",
    "class MyStopWord:\n",
    "    def __init__(self,content_counter,most_common=100,stop_word=None):\n",
    "        from nltk.corpus import stopwords\n",
    "        self.counter_stop_word=[word for word,time in content_counter.most_common(most_common)]\n",
    "        self.user_keep=[]\n",
    "        self.user_define=[]\n",
    "        if stop_word:\n",
    "            self.stop_word=stop_word\n",
    "        else:\n",
    "            self.stop_word=set(self.counter_stop_word+stopwords.words('english')) \n",
    "    def keep(self,word):\n",
    "        self.user_keep.append(word)\n",
    "        self.stop_word.discard(word)\n",
    "    def define(self,word):\n",
    "        self.user_define.append(word)\n",
    "        self.stop_word.add(word)\n",
    "\n",
    "class Unigram:\n",
    "    def __init__(self,target_counter,other_counter):\n",
    "        self.target_counter = target_counter\n",
    "        self.other_counter = other_counter\n",
    "        \n",
    "    def get_different_corpus_set(self,mystopword,TF_OTHER_THRESHOLD=20,TF_TARGET_THRESHOLD=5):\n",
    "        other_corpus_set=set(key for key,times in self.other_counter.items() if times>TF_OTHER_THRESHOLD)-mystopword.stop_word\n",
    "        target_corpus_set=set(key for key,times in self.target_counter.items() if times>TF_TARGET_THRESHOLD)-mystopword.stop_word\n",
    "        self.different_corpus_set = target_corpus_set-other_corpus_set\n",
    "\n",
    "class Bigram:\n",
    "    def __init__(self,token):\n",
    "        self.token = token\n",
    "    def count_word_pair_with_windows(self,window_size,mystopword):\n",
    "        stop_word = mystopword.stop_word\n",
    "        self.pair_counts = Counter()\n",
    "        self.pair_distance_counts = Counter()\n",
    "        for tokens in self.token:\n",
    "            for i in range(len(tokens) - 1):\n",
    "                for distance in range(1, window_size):\n",
    "                    if i + distance < len(tokens):\n",
    "                        w1 = tokens[i]\n",
    "                        w2 = tokens[i + distance]\n",
    "                        if w1 not in stop_word and w2 not in stop_word:\n",
    "                            self.pair_distance_counts[(w1, w2, distance)] += 1\n",
    "                            self.pair_counts[(w1, w2)] += 1"
   ]
  },
  {
   "cell_type": "code",
   "execution_count": 81,
   "metadata": {},
   "outputs": [],
   "source": [
    "raw_df = pd.read_csv(\"../../data/crawler_news_data/oilprice_news.csv\")\n",
    "raw_df_cnbc = pd.read_csv(\"../../data/crawler_news_data/cnbc_oil_news.csv\")\n",
    "data_df=raw_df.sort_values(by=\"publish_datetime\",ascending=True).set_index('publish_datetime')\n",
    "data_df_cnbc = raw_df_cnbc.sort_values(by=\"story_publish_datetime\",ascending=True).set_index('story_publish_datetime')\n",
    "data_df_oilprice = pd.DataFrame({\"date\":raw_df.publish_datetime,\"content\":raw_df.content})\n",
    "data_df_cnbc = pd.DataFrame({\"date\":raw_df_cnbc.story_publish_datetime,\"content\":raw_df_cnbc.story_full_article})\n",
    "data_df_oilprice_cnbc = data_df_oilprice.append(data_df_cnbc)\n",
    "data_df_oilprice_cnbc = data_df_oilprice_cnbc.sort_values(by=\"date\",ascending=True).set_index('date')\n",
    "raw_content = get_content(data_df_oilprice_cnbc)"
   ]
  },
  {
   "cell_type": "code",
   "execution_count": 88,
   "metadata": {},
   "outputs": [],
   "source": [
    "from_date = \"2017-11\"\n",
    "to_date = \"2018-09\"\n",
    "train_content = raw_content[from_date:to_date]"
   ]
  },
  {
   "cell_type": "markdown",
   "metadata": {},
   "source": [
    "## 建立stopword"
   ]
  },
  {
   "cell_type": "code",
   "execution_count": 89,
   "metadata": {},
   "outputs": [],
   "source": [
    "all_year_preprocessor = Preprocessor(content=train_content)\n",
    "all_year_preprocessor.to_counter()\n",
    "mystopword=MyStopWord(content_counter=all_year_preprocessor.counter,most_common=87)\n",
    "mystopword.define('c')\n",
    "mystopword.keep('demand')"
   ]
  },
  {
   "cell_type": "markdown",
   "metadata": {},
   "source": [
    "## 用Target corpus - Other corpus find dictionary"
   ]
  },
  {
   "cell_type": "markdown",
   "metadata": {},
   "source": [
    "### 1. effectivate news date"
   ]
  },
  {
   "cell_type": "code",
   "execution_count": 101,
   "metadata": {},
   "outputs": [
    {
     "data": {
      "text/plain": [
       "DatetimeIndex(['2013-11-29', '2013-12-02', '2013-12-31', '2014-01-01',\n",
       "               '2014-01-20', '2014-02-05', '2014-02-17', '2014-02-27',\n",
       "               '2014-03-03', '2014-03-07',\n",
       "               ...\n",
       "               '2018-08-07', '2018-09-10', '2018-09-27', '2018-10-09',\n",
       "               '2018-10-16', '2018-10-19', '2018-10-22', '2018-10-30',\n",
       "               '2018-11-09', '2018-11-12'],\n",
       "              dtype='datetime64[ns]', name='date', length=182, freq=None)"
      ]
     },
     "execution_count": 101,
     "metadata": {},
     "output_type": "execute_result"
    }
   ],
   "source": [
    "effective_news_df = pd.read_csv(\"../../data/crude_oil_price/effective_news_date_from_2013_3d_rolling.csv\")\n",
    "effective_news_date = effective_news_df['date']\n",
    "effective_news_date=pd.DatetimeIndex(effective_news_date)\n",
    "effective_news_date"
   ]
  },
  {
   "cell_type": "markdown",
   "metadata": {},
   "source": [
    "### 2. find target and other corpus"
   ]
  },
  {
   "cell_type": "code",
   "execution_count": 91,
   "metadata": {},
   "outputs": [],
   "source": [
    "from_date = \"2017-11\"\n",
    "to_date = \"2018-09\"\n",
    "train_content = raw_content[from_date:to_date]\n",
    "target_content = train_content.loc[train_content.index.isin(effective_news_date.values)]\n",
    "other_content = train_content.loc[~train_content.index.isin(effective_news_date.values)]\n",
    "target_preprocessor = Preprocessor(content = target_content)\n",
    "other_preprocessor = Preprocessor(content= other_content)\n",
    "target_preprocessor.to_counter()\n",
    "other_preprocessor.to_counter()"
   ]
  },
  {
   "cell_type": "markdown",
   "metadata": {},
   "source": [
    "### 3. find bigram dictionary"
   ]
  },
  {
   "cell_type": "code",
   "execution_count": 92,
   "metadata": {},
   "outputs": [],
   "source": [
    "window_size = 5\n",
    "target_bigram = Bigram(token=target_preprocessor.tokens)\n",
    "other_bigram = Bigram(token=other_preprocessor.tokens)\n",
    "target_bigram.count_word_pair_with_windows(mystopword=mystopword,window_size=window_size)\n",
    "other_bigram.count_word_pair_with_windows(mystopword=mystopword,window_size=window_size)\n",
    "pairwise_dictionary = set(target_bigram.pair_counts.most_common(100)) - set(other_bigram.pair_counts)\n",
    "pairwise_dictionary=[pair for pair,count in pairwise_dictionary]"
   ]
  },
  {
   "cell_type": "markdown",
   "metadata": {},
   "source": [
    "## 4. word to vector"
   ]
  },
  {
   "cell_type": "code",
   "execution_count": 93,
   "metadata": {},
   "outputs": [],
   "source": [
    "def word_to_vector(this_year_token,pairwise_with_windows_list,mystopword,window_size):\n",
    "    this_year_vs=[]\n",
    "    for tokenized_article in this_year_token:\n",
    "        finder = nltk.BigramCollocationFinder.from_words([word for word in tokenized_article if word not in mystopword.stop_word],window_size=window_size)\n",
    "        this_vs= {key: 0 for key in pairwise_with_windows_list}\n",
    "        for pair,times in finder.ngram_fd.items():\n",
    "            if pair in this_vs.keys():\n",
    "                this_vs[pair]=times\n",
    "        this_year_vs.append(this_vs)            \n",
    "    return(this_year_vs)"
   ]
  },
  {
   "cell_type": "code",
   "execution_count": 94,
   "metadata": {},
   "outputs": [],
   "source": [
    "train_preprocessor = Preprocessor(content=train_content)\n",
    "train_preprocessor.to_counter()\n",
    "train_vs = word_to_vector(train_preprocessor.tokens,pairwise_dictionary,mystopword,window_size)\n",
    "train_vs_df=pd.DataFrame(train_vs)\n",
    "train_vs_df=train_vs_df.set_index(pd.DatetimeIndex(train_content.index))"
   ]
  },
  {
   "cell_type": "code",
   "execution_count": 95,
   "metadata": {},
   "outputs": [
    {
     "name": "stdout",
     "output_type": "stream",
     "text": [
      "target: 10.72549019607843\n",
      "other: 9.175970228601807\n"
     ]
    },
    {
     "name": "stderr",
     "output_type": "stream",
     "text": [
      "C:\\Users\\eiahb\\AppData\\Local\\conda\\conda\\envs\\env_futures\\lib\\site-packages\\ipykernel_launcher.py:1: FutureWarning: \n",
      "Passing list-likes to .loc or [] with any missing label will raise\n",
      "KeyError in the future, you can use .reindex() as an alternative.\n",
      "\n",
      "See the documentation here:\n",
      "https://pandas.pydata.org/pandas-docs/stable/indexing.html#deprecate-loc-reindex-listlike\n",
      "  \"\"\"Entry point for launching an IPython kernel.\n"
     ]
    }
   ],
   "source": [
    "print(\"target:\",train_vs_df.loc[effective_news_date.values].sum(axis=1).mean())\n",
    "print(\"other:\",train_vs_df.loc[~train_content.index.isin(effective_news_date.values)].sum(axis=1).mean())"
   ]
  },
  {
   "cell_type": "code",
   "execution_count": 96,
   "metadata": {},
   "outputs": [],
   "source": [
    "train_vs_df['tags'] = 0\n",
    "train_vs_df.loc[train_vs_df.index.isin(effective_news_date.values),'tags']=1\n",
    "train_vs_df.to_csv(\"../../data/train_test_dataset/oilprice_cnbc_new_train.csv\")"
   ]
  },
  {
   "cell_type": "markdown",
   "metadata": {},
   "source": [
    "## Generate Test Data"
   ]
  },
  {
   "cell_type": "code",
   "execution_count": 97,
   "metadata": {},
   "outputs": [],
   "source": [
    "window_size=5\n",
    "test_content = raw_content[\"2018-10-01\":]\n",
    "effective_date = pd.read_csv(\"../../data/crude_oil_price/effective_news_date_from_2013.csv\")\n",
    "test_target_date = effective_date.loc[effective_date.date>=\"2018-10-01\",\"date\"]"
   ]
  },
  {
   "cell_type": "code",
   "execution_count": 98,
   "metadata": {},
   "outputs": [],
   "source": [
    "test_preprocessor = Preprocessor(content=test_content)\n",
    "test_preprocessor.to_counter()\n",
    "test_vs = word_to_vector(test_preprocessor.tokens,pairwise_dictionary,mystopword,window_size)\n",
    "test_vs_df=pd.DataFrame(test_vs)\n",
    "test_vs_df=test_vs_df.set_index(pd.DatetimeIndex(test_content.index))\n",
    "test_vs_df['tags'] = 0\n",
    "test_vs_df.loc[test_vs_df.index.isin(test_target_date)] =1\n",
    "test_vs_df.to_csv(\"../../data/train_test_dataset/oilprice_cnbc_new_test.csv\")"
   ]
  },
  {
   "cell_type": "code",
   "execution_count": 99,
   "metadata": {},
   "outputs": [
    {
     "name": "stdout",
     "output_type": "stream",
     "text": [
      "target: 45.15172413793103\n",
      "other: 20.21014492753623\n"
     ]
    },
    {
     "name": "stderr",
     "output_type": "stream",
     "text": [
      "C:\\Users\\eiahb\\AppData\\Local\\conda\\conda\\envs\\env_futures\\lib\\site-packages\\ipykernel_launcher.py:1: FutureWarning: \n",
      "Passing list-likes to .loc or [] with any missing label will raise\n",
      "KeyError in the future, you can use .reindex() as an alternative.\n",
      "\n",
      "See the documentation here:\n",
      "https://pandas.pydata.org/pandas-docs/stable/indexing.html#deprecate-loc-reindex-listlike\n",
      "  \"\"\"Entry point for launching an IPython kernel.\n"
     ]
    }
   ],
   "source": [
    "print(\"target:\",test_vs_df.loc[effective_news_date.values].sum(axis=1).mean())\n",
    "print(\"other:\",test_vs_df.loc[~test_content.index.isin(effective_news_date.values)].sum(axis=1).mean())"
   ]
  },
  {
   "cell_type": "code",
   "execution_count": null,
   "metadata": {},
   "outputs": [],
   "source": []
  }
 ],
 "metadata": {
  "kernelspec": {
   "display_name": "Python 3",
   "language": "python",
   "name": "python3"
  },
  "language_info": {
   "codemirror_mode": {
    "name": "ipython",
    "version": 3
   },
   "file_extension": ".py",
   "mimetype": "text/x-python",
   "name": "python",
   "nbconvert_exporter": "python",
   "pygments_lexer": "ipython3",
   "version": "3.6.6"
  }
 },
 "nbformat": 4,
 "nbformat_minor": 2
}
