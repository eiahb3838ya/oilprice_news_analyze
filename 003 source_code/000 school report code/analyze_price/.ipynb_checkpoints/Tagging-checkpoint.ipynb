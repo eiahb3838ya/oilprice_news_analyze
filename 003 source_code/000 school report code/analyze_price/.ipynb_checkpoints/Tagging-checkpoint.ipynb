{
 "cells": [
  {
   "cell_type": "code",
   "execution_count": 1,
   "metadata": {
    "collapsed": true
   },
   "outputs": [],
   "source": [
    "import pandas as pd"
   ]
  },
  {
   "cell_type": "code",
   "execution_count": 2,
   "metadata": {
    "collapsed": true
   },
   "outputs": [],
   "source": [
    "class Update_tag_ebscohost:\n",
    "    def __init__(self,path):\n",
    "        self.path=path\n",
    "        self.df=pd.read_csv(path)\n",
    "        self.current_news=0\n",
    "    def print_news_title(self):\n",
    "        print(\"this is the\",self.current_news,\"news\",\"and the tag is :\",self.df['tags'][self.current_news])\n",
    "        print(self.df.datetime[self.current_news])\n",
    "        print(self.df.Title[self.current_news])\n",
    "        print(\"Abstract :\\n\",self.df.Abstract[self.current_news])\n",
    "    def print_news_content(self):\n",
    "        print(\"this is the \",self.current_news,\"news\",)\n",
    "        print(self.df.Content[self.current_news])\n",
    "        \n",
    "    def update_this_news(self,tag_value):\n",
    "        self.df['tags'][self.current_news]=tag_value\n",
    "        self.df.to_csv(self.path,mode='w')\n",
    "        self.current_news=self.current_news+1\n",
    "        self.print_news_title()\n",
    "    def go_to_news(self,num):\n",
    "        self.current_news=num\n",
    "        self.print_news_title()\n",
    "    def next(self):\n",
    "        self.go_to_news(self.current_news+1)"
   ]
  },
  {
   "cell_type": "code",
   "execution_count": 8,
   "metadata": {
    "collapsed": true
   },
   "outputs": [],
   "source": [
    "class Update_tag_oilprice:\n",
    "    def __init__(self,path):\n",
    "        self.path=path\n",
    "        self.df=pd.read_csv(path)\n",
    "        self.current_news=0\n",
    "    def print_news_title(self):\n",
    "        print(\"this is the\",self.current_news,\"news\",\"and the tag is :\",self.df['tags'][self.current_news])\n",
    "        print(self.df.publish_datetime[self.current_news])\n",
    "        print(self.df.title[self.current_news])\n",
    "        print(\"this is the \",self.current_news,\"news\")\n",
    "        print(self.df.content[self.current_news])    \n",
    "    def update_this_news(self,tag_value):\n",
    "        self.df['tags'][self.current_news]=tag_value\n",
    "        self.df.to_csv(self.path,mode='w')\n",
    "        self.current_news=self.current_news+1\n",
    "        self.print_news_title()\n",
    "    def go_to_news(self,num):\n",
    "        self.current_news=num\n",
    "        self.print_news_title()\n",
    "    def next(self):\n",
    "        self.go_to_news(self.current_news+1)"
   ]
  },
  {
   "cell_type": "code",
   "execution_count": 10,
   "metadata": {},
   "outputs": [
    {
     "name": "stdout",
     "output_type": "stream",
     "text": [
      "this is the 13 news and the tag is : -1\n",
      "2018-11-06\n",
      "The Truth About Iran Oil Sanction Waivers\n"
     ]
    }
   ],
   "source": [
    "ut=Update_tag_oilprice(\"../../data/crawler_news_data/oilprice_news.csv\")\n",
    "ut.go_to_news(13)"
   ]
  },
  {
   "cell_type": "code",
   "execution_count": 11,
   "metadata": {},
   "outputs": [
    {
     "name": "stderr",
     "output_type": "stream",
     "text": [
      "/Users/amandachen/anaconda/envs/py35/lib/python3.5/site-packages/ipykernel_launcher.py:14: SettingWithCopyWarning: \n",
      "A value is trying to be set on a copy of a slice from a DataFrame\n",
      "\n",
      "See the caveats in the documentation: http://pandas.pydata.org/pandas-docs/stable/indexing.html#indexing-view-versus-copy\n",
      "  \n"
     ]
    },
    {
     "name": "stdout",
     "output_type": "stream",
     "text": [
      "this is the 14 news and the tag is : 0\n",
      "2018-11-06\n",
      "Is Shale The Future For Big Oil?\n"
     ]
    }
   ],
   "source": [
    "ut.update_this_news(-1)"
   ]
  },
  {
   "cell_type": "code",
   "execution_count": 5,
   "metadata": {},
   "outputs": [
    {
     "name": "stdout",
     "output_type": "stream",
     "text": [
      "this is the  0 news\n"
     ]
    },
    {
     "ename": "AttributeError",
     "evalue": "'DataFrame' object has no attribute 'Content'",
     "output_type": "error",
     "traceback": [
      "\u001b[1;31m---------------------------------------------------------------------------\u001b[0m",
      "\u001b[1;31mAttributeError\u001b[0m                            Traceback (most recent call last)",
      "\u001b[1;32m<ipython-input-5-d58222138c85>\u001b[0m in \u001b[0;36m<module>\u001b[1;34m\u001b[0m\n\u001b[1;32m----> 1\u001b[1;33m \u001b[0mut\u001b[0m\u001b[1;33m.\u001b[0m\u001b[0mprint_news_content\u001b[0m\u001b[1;33m(\u001b[0m\u001b[1;33m)\u001b[0m\u001b[1;33m\u001b[0m\u001b[0m\n\u001b[0m",
      "\u001b[1;32m<ipython-input-3-2aa71d81b249>\u001b[0m in \u001b[0;36mprint_news_content\u001b[1;34m(self)\u001b[0m\n\u001b[0;32m     11\u001b[0m     \u001b[1;32mdef\u001b[0m \u001b[0mprint_news_content\u001b[0m\u001b[1;33m(\u001b[0m\u001b[0mself\u001b[0m\u001b[1;33m)\u001b[0m\u001b[1;33m:\u001b[0m\u001b[1;33m\u001b[0m\u001b[0m\n\u001b[0;32m     12\u001b[0m         \u001b[0mprint\u001b[0m\u001b[1;33m(\u001b[0m\u001b[1;34m\"this is the \"\u001b[0m\u001b[1;33m,\u001b[0m\u001b[0mself\u001b[0m\u001b[1;33m.\u001b[0m\u001b[0mcurrent_news\u001b[0m\u001b[1;33m,\u001b[0m\u001b[1;34m\"news\"\u001b[0m\u001b[1;33m,\u001b[0m\u001b[1;33m)\u001b[0m\u001b[1;33m\u001b[0m\u001b[0m\n\u001b[1;32m---> 13\u001b[1;33m         \u001b[0mprint\u001b[0m\u001b[1;33m(\u001b[0m\u001b[0mself\u001b[0m\u001b[1;33m.\u001b[0m\u001b[0mdf\u001b[0m\u001b[1;33m.\u001b[0m\u001b[0mContent\u001b[0m\u001b[1;33m[\u001b[0m\u001b[0mself\u001b[0m\u001b[1;33m.\u001b[0m\u001b[0mcurrent_news\u001b[0m\u001b[1;33m]\u001b[0m\u001b[1;33m)\u001b[0m\u001b[1;33m\u001b[0m\u001b[0m\n\u001b[0m\u001b[0;32m     14\u001b[0m \u001b[1;33m\u001b[0m\u001b[0m\n\u001b[0;32m     15\u001b[0m     \u001b[1;32mdef\u001b[0m \u001b[0mupdate_this_news\u001b[0m\u001b[1;33m(\u001b[0m\u001b[0mself\u001b[0m\u001b[1;33m,\u001b[0m\u001b[0mtag_value\u001b[0m\u001b[1;33m)\u001b[0m\u001b[1;33m:\u001b[0m\u001b[1;33m\u001b[0m\u001b[0m\n",
      "\u001b[1;32m~\\AppData\\Local\\conda\\conda\\envs\\env_futures\\lib\\site-packages\\pandas\\core\\generic.py\u001b[0m in \u001b[0;36m__getattr__\u001b[1;34m(self, name)\u001b[0m\n\u001b[0;32m   4374\u001b[0m             \u001b[1;32mif\u001b[0m \u001b[0mself\u001b[0m\u001b[1;33m.\u001b[0m\u001b[0m_info_axis\u001b[0m\u001b[1;33m.\u001b[0m\u001b[0m_can_hold_identifiers_and_holds_name\u001b[0m\u001b[1;33m(\u001b[0m\u001b[0mname\u001b[0m\u001b[1;33m)\u001b[0m\u001b[1;33m:\u001b[0m\u001b[1;33m\u001b[0m\u001b[0m\n\u001b[0;32m   4375\u001b[0m                 \u001b[1;32mreturn\u001b[0m \u001b[0mself\u001b[0m\u001b[1;33m[\u001b[0m\u001b[0mname\u001b[0m\u001b[1;33m]\u001b[0m\u001b[1;33m\u001b[0m\u001b[0m\n\u001b[1;32m-> 4376\u001b[1;33m             \u001b[1;32mreturn\u001b[0m \u001b[0mobject\u001b[0m\u001b[1;33m.\u001b[0m\u001b[0m__getattribute__\u001b[0m\u001b[1;33m(\u001b[0m\u001b[0mself\u001b[0m\u001b[1;33m,\u001b[0m \u001b[0mname\u001b[0m\u001b[1;33m)\u001b[0m\u001b[1;33m\u001b[0m\u001b[0m\n\u001b[0m\u001b[0;32m   4377\u001b[0m \u001b[1;33m\u001b[0m\u001b[0m\n\u001b[0;32m   4378\u001b[0m     \u001b[1;32mdef\u001b[0m \u001b[0m__setattr__\u001b[0m\u001b[1;33m(\u001b[0m\u001b[0mself\u001b[0m\u001b[1;33m,\u001b[0m \u001b[0mname\u001b[0m\u001b[1;33m,\u001b[0m \u001b[0mvalue\u001b[0m\u001b[1;33m)\u001b[0m\u001b[1;33m:\u001b[0m\u001b[1;33m\u001b[0m\u001b[0m\n",
      "\u001b[1;31mAttributeError\u001b[0m: 'DataFrame' object has no attribute 'Content'"
     ]
    }
   ],
   "source": [
    "ut.print_news_content()"
   ]
  },
  {
   "cell_type": "code",
   "execution_count": 57,
   "metadata": {},
   "outputs": [
    {
     "name": "stdout",
     "output_type": "stream",
     "text": [
      "this is the 33 news and the tag is : 0\n",
      "2018-09-27\n",
      "Phillips 66 Partners Announces Open Season for the Eagle Ford Segment of the Gray Oak Pipeline\n",
      "Abstract :\n",
      " Phillips 66 Partners (NYSE: PSXP) announced today that its subsidiary Gray Oak Pipeline, LLC (Gray Oak) is commencing an open season for the Eagle Ford segment of the Gray Oak Pipeline. Interested shippers will have the opportunity to secure long-termcrudeoiltransportation on the Gray Oak Pipeline from the Helena Hub and Three Rivers terminal to the Corpus Christi and Sweeny/Freeport markets under a binding transportation services agreement. Gray Oak has received sufficient binding volume commitments for the planned Eagle Ford pipeline segment and associated infrastructure. Service from the Helena Hub and Three Rivers terminal is expected to begin by the end of 2019. Gray Oak is a joint venture owned 75 percent by Phillips 66 Partners and 25 percent by Andeavor (NYSE: ANDV).   [ABSTRACT FROM PUBLISHER]\n"
     ]
    }
   ],
   "source": [
    "ut.next()"
   ]
  },
  {
   "cell_type": "markdown",
   "metadata": {},
   "source": [
    "## Oilprice News"
   ]
  },
  {
   "cell_type": "code",
   "execution_count": 17,
   "metadata": {
    "collapsed": true
   },
   "outputs": [],
   "source": [
    "class Update_tag_oilprice:\n",
    "    def __init__(self,path):\n",
    "        self.path=path\n",
    "        self.df=pd.read_csv(path)\n",
    "        self.current_news=0\n",
    "    def print_news_title(self):\n",
    "        print(\"this is the\",self.current_news,\"news\",\"and the tag is :\",self.df['tags'][self.current_news])\n",
    "        print(self.df.publish_datetime[self.current_news])\n",
    "        print(self.df.title[self.current_news])\n",
    "#         print(\"Abstract :\\n\",self.df.Abstract[self.current_news])\n",
    "    def print_news_content(self):\n",
    "        print(\"this is the \",self.current_news,\"news\",)\n",
    "        print(self.df.content[self.current_news])\n",
    "        \n",
    "    def update_this_news(self,tag_value):\n",
    "        self.df['tags'][self.current_news]=tag_value\n",
    "        self.df.to_csv(self.path,mode='w')\n",
    "        self.current_news=self.current_news+1\n",
    "        self.print_news_title()\n",
    "        self.print_news_content()\n",
    "    def go_to_news(self,num):\n",
    "        self.current_news=num\n",
    "        self.print_news_title()\n",
    "    def next(self):\n",
    "        self.go_to_news(self.current_news+1)"
   ]
  },
  {
   "cell_type": "code",
   "execution_count": 18,
   "metadata": {
    "collapsed": true
   },
   "outputs": [],
   "source": [
    "data = pd.read_csv(\"../../data/crawler_news_data/oilprice_news.csv\")\n",
    "data['tags'] = 0\n",
    "data.to_csv(\"../../data/crawler_news_data/oilprice_news.csv\",index = False)\n",
    "ut=Update_tag_oilprice(\"../../data/crawler_news_data/oilprice_news.csv\")"
   ]
  },
  {
   "cell_type": "code",
   "execution_count": 34,
   "metadata": {},
   "outputs": [
    {
     "name": "stderr",
     "output_type": "stream",
     "text": [
      "C:\\Users\\eiahb\\AppData\\Local\\conda\\conda\\envs\\env_futures\\lib\\site-packages\\ipykernel_launcher.py:16: SettingWithCopyWarning: \n",
      "A value is trying to be set on a copy of a slice from a DataFrame\n",
      "\n",
      "See the caveats in the documentation: http://pandas.pydata.org/pandas-docs/stable/indexing.html#indexing-view-versus-copy\n",
      "  app.launch_new_instance()\n"
     ]
    },
    {
     "name": "stdout",
     "output_type": "stream",
     "text": [
      "this is the 14 news and the tag is : 0\n",
      "2018-11-06\n",
      "Is Shale The Future For Big Oil?\n",
      "this is the  14 news\n",
      "If anyone had compared shale oil to Google five years ago, it would have sounded strange. Yet when last week in a report Wood Mackenzie’s chairman and chief analyst Simon Flower did just that, comparing shale oil to the FAANG stocks, he had a good reason to do so. Shale oil is the star of the decade as far as the global energy industry is concerned, and now even Big Oil has woken up to this fact.In a report detailing the relationship of Big Oil and shale, Wood Mac’s analysts forecast a bright future for both, with the share of shale oil in the supermajors’ total production rising from the current 700,000 bpd to 2.2 million bpd in 2026 before it starts declining. This will represent a tenth of the supermajors’ total production, Wood Mac’s research analyst Roy Martin said in the report.Meanwhile, it’s not just the supermajors that are expanding their shale oil footprint at a fast pace. Large independents are getting larger, too. As Houston Chronicle commentator Chris Tomlinson noted in a recent story on the same topic, “Seasoned oil executives know that when both prices and production rise, it’s time to cash out and sell to the big boys.”There’s a consolidation underway in the U.S. shale patch, and it will likely continue for some time until, Tomlinson argues, only the strongest players remain, all in a position to benefit from the marriage of lower costs, higher drilling and production efficiency, and consequently, consistent output growth.Among the most notable acquisitions in this area so far this year were BHP Billiton’s sale of its shale operations to BP for US$10.5 billion, after it was pressured by Elliott Management to exit shale, as well as Encana’s purchase of Newfield Exploration for US$5.5 billion, and Chesapeake’s acquisition of WildHorse Resource Development for US$4 billion. According to Tomlinson, the total value of M&A deals in shale since the start of the year stands at US$43.2 billion. But as it usually happens, if it looks to good to be true it probably is.For starters, not all supermajors are so bent on growing in shale. French Total and Italian Eni have so far shunned shale oil and there are no indications they are likely to change their stance anytime soon.  Related: Analysts See Opportunities In Embattled Energy Stocks“I have nothing against the Permian,” Total’s Patrick Pouyanné said this spring at CERAWeek in response to a question about why Total has not followed suit with the other supermajors. He added at the time that he thought it was “an incredible area” for competitors who already have positions there. “For a company like Total, it’s not just a matter of ticking the box to produce 50,000 bpd, it makes no sense,” the CEO said, adding that “when I think of areas of investment, I need to target 200,000 bpd-300,000 bpd if I’m a serious player.”Italy’s Eni is apparently following a similar logic, with both European supermajors more interested in offshore exploration and Africa than in U.S. shale. Given the capital intensiveness of shale oil production their logic is understandable.However, even those with an established position in the shale patch are facing challenges: investors are also aware of the capital intensiveness of shale oil production and they are still suspicious of executives. Chesapeake’s stocks, for example, dived by 12 percent on the announcement of the WildHorse purchase. Investors in shale oil are mistrustful and companies will need a lot more time, as well as free cash flow and returns to convince them that all is good once again. That’s why, as Houston Chronicle’s Tomlinson said in his analysis, “investors will do well to keep up the pressure on oil companies to maximize efficiency and produce profits, because the future is uncertain.”By Irina Slav for Oilprice.comMore Top Reads From Oilprice.com:\n"
     ]
    }
   ],
   "source": [
    "ut.update_this_news(-1)"
   ]
  }
 ],
 "metadata": {
  "kernelspec": {
   "display_name": "Python 3",
   "language": "python",
   "name": "python3"
  },
  "language_info": {
   "codemirror_mode": {
    "name": "ipython",
    "version": 3
   },
   "file_extension": ".py",
   "mimetype": "text/x-python",
   "name": "python",
   "nbconvert_exporter": "python",
   "pygments_lexer": "ipython3",
   "version": "3.5.4"
  }
 },
 "nbformat": 4,
 "nbformat_minor": 2
}
