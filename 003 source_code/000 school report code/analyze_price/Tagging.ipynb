{
 "cells": [
  {
   "cell_type": "code",
   "execution_count": 1,
   "metadata": {
    "collapsed": true
   },
   "outputs": [],
   "source": [
    "import pandas as pd"
   ]
  },
  {
   "cell_type": "code",
   "execution_count": 2,
   "metadata": {
    "collapsed": true
   },
   "outputs": [],
   "source": [
    "class Update_tag_ebscohost:\n",
    "    def __init__(self,path):\n",
    "        self.path=path\n",
    "        self.df=pd.read_csv(path)\n",
    "        self.current_news=0\n",
    "    def print_news_title(self):\n",
    "        print(\"this is the\",self.current_news,\"news\",\"and the tag is :\",self.df['tags'][self.current_news])\n",
    "        print(self.df.datetime[self.current_news])\n",
    "        print(self.df.Title[self.current_news])\n",
    "        print(\"Abstract :\\n\",self.df.Abstract[self.current_news])\n",
    "    def print_news_content(self):\n",
    "        print(\"this is the \",self.current_news,\"news\",)\n",
    "        print(self.df.Content[self.current_news])\n",
    "        \n",
    "    def update_this_news(self,tag_value):\n",
    "        self.df['tags'][self.current_news]=tag_value\n",
    "        self.df.to_csv(self.path,mode='w')\n",
    "        self.current_news=self.current_news+1\n",
    "        self.print_news_title()\n",
    "    def go_to_news(self,num):\n",
    "        self.current_news=num\n",
    "        self.print_news_title()\n",
    "    def next(self):\n",
    "        self.go_to_news(self.current_news+1)"
   ]
  },
  {
   "cell_type": "code",
   "execution_count": 15,
   "metadata": {
    "collapsed": true
   },
   "outputs": [],
   "source": [
    "class Update_tag_oilprice:\n",
    "    def __init__(self,path):\n",
    "        self.path=path\n",
    "        self.df=pd.read_csv(path)\n",
    "        self.current_news=0\n",
    "    def print_news_title(self):\n",
    "        print(\"this is the\",self.current_news,\"news\",\"and the tag is :\",self.df['tags'][self.current_news])\n",
    "        print(self.df.publish_datetime[self.current_news])\n",
    "        print(self.df.title[self.current_news])\n",
    "        print(self.df.content[self.current_news])    \n",
    "    def update_this_news(self,tag_value):\n",
    "        self.df['tags'][self.current_news]=tag_value\n",
    "        self.df.to_csv(self.path,mode='w')\n",
    "        self.current_news=self.current_news+1\n",
    "        self.print_news_title()\n",
    "    def go_to_news(self,num):\n",
    "        self.current_news=num\n",
    "        self.print_news_title()\n",
    "    def next(self):\n",
    "        self.go_to_news(self.current_news+1)"
   ]
  },
  {
   "cell_type": "code",
   "execution_count": 16,
   "metadata": {},
   "outputs": [
    {
     "name": "stdout",
     "output_type": "stream",
     "text": [
      "this is the 13 news and the tag is : -1\n",
      "2018-11-06\n",
      "The Truth About Iran Oil Sanction Waivers\n",
      "The Trump administration has dropped the hammer, officially putting sanctions on Iran’s oil exports. Why, then, might Iran’s oil exports actually increase in the near future?The U.S. granted waivers to eight countries, allowing them to continue to import oil from Iran for a six-month period. Washington spun the waivers as a brief period of time that would allow a handful of countries to get their imports from Iran down to zero. Some countries really depend on Iran, so a six-month grace period would give them a bit more leeway.The U.S. government was a bit defensive about the action. “No one’s going to argue that Secretary Pompeo isn’t tough on Iran,” Secretary of State Mike Pompeo said on “Fox News Sunday.” “And no one is going to argue that President Trump isn’t doing the same.” He cited the loss of around 1 million barrels per day of Iranian oil exports as evidence that the policy was working. “That number will fall farther.”Yet the President himself revealed the logic behind the waivers. “We have the toughest sanctions ever imposed but on oil we want to go a little bit slower because I don't want to drive the oil prices in the world,” President Trump told reporters on Monday. “I could get the Iran oil down to zero immediately, but it would cause a shock to the market.” It’s highly debatable that the U.S. could have succeeded in slashing Iran’s oil exports to zero, but even if it did succeed, there is little doubt that oil prices would be substantially higher than they are today.The eight countries granted waivers included South Korea, Taiwan, Turkey, Greece, Japan, China, India and Italy. Many of these countries had already made sharp reductions in their purchases of Iranian oil, which allowed them to curry favor with Washington as they sought some leniency on sanctions.  Related: The Rapid Acceleration Towards Peak Oil DemandNotably, however, South Korea and Japan had already zeroed out their imports from Iran well ahead of the deadline. The waivers for them, then, are a bit curious. The Trump administration may have wanted to reward allies that had been cooperative. However, it could also allow them to resume purchases of Iranian oil.Japan’s trade minister, Hiroshige Seko, said on Tuesday that Japanese refiners could begin buying oil from Iran again, now that they have a six-month exemption. South Korea could also import around 130,000 bpd from Iran again, which is notable since South Korea hasn’t purchased oil from Iran since June, according to the IEA.Some Chinese refiners who also cut their purchases are interested in buying oil once again, according to Reuters. China will be allowed to buy around 360,000 bpd, which is about half of what the country imported over the past two years. An unnamed trader told Reuters that “enquiries for cargoes from Iran are...coming in from several Asian buyers.”Combined, the exemptions will allow Iran to continue to export oil, and it might even be able to increase exports from current levels. Iran exported somewhere around 1.6-1.7 million barrels per day in October, and according to S&P Global Platts, might export around 1.1 mb/d in November. But the losses could potentially stop there, and might even rise if some countries resume purchases.It is “likely that Iranian oil exports will stabilise at their present level of a good 1 million barrels per day,” Commerzbank said in a note. “Exports could even increase again in the coming months because Japan and South Korea have hardly been buying any Iranian oil of late amid uncertainty ahead of the sanctions and as a gesture of goodwill towards the US.” The investment bank said the waivers and the potential increase in shipments to Asia is bad news for oil prices.  Related: Bolton: U.S. Is Preparing More Sanctions Against IranThere is quite a bit of disagreement over the trajectory of Iran’s exports. Citi’s Ed Morse told Bloomberg TV that oil prices are actually “biased to the upside” for the rest of the year. Morse said that oil prices could average $80 per barrel in the fourth quarter and might even spike to $90 or $100. He noted that whether or not such scenarios play out largely depend on Iran, as well as some other potential outage.And while the market is suddenly bearish on oil because of Iran waivers, Morse notes that the waivers are only temporary and that the Trump administration won’t allow countries receiving waivers to import unlimited quantities. “How much oil is being granted from Iran to each of those eight countries? We can only surmise until we get a tweet from somebody in the government,” Morse told Bloomberg TV.Other analysts agreed with that sentiment. “We do not see [the eight countries] having carte blanche to import what they like,” the consultancy FGE said in a note.The bottom line is that there is not a lot of clarity regarding what to expect on Iran’s exports. The U.S. waivers could allow exports to stabilize and perhaps even edge up temporarily. However, the Trump administration is keen on tightening the screws. The waivers expire in May, and surely the U.S. wants Iran’s exports to be lower by then.Nevertheless, Washington will only be able to move as fast as the oil market allows, which, after months of bluster, is something that the administration finally recognizes.“We will ensure that as more barrels of Iranian crude and condensate come off the market, that we accomplish our national security objectives without increasing the price of oil,” Brian Hook, head of the State Department's Iran action group, told reporters on a conference call. “We have a high degree of confidence that we will be able to do both.” That’s the goal, but it remains to be seen if the oil market is loose enough to allow for that harder line on Iran.By Nick Cunningham of Oilprice.comMore Top Reads From Oilprice.com:\n"
     ]
    }
   ],
   "source": [
    "ut=Update_tag_oilprice(\"../../data/crawler_news_data/oilprice_news.csv\")\n",
    "ut.go_to_news(13)"
   ]
  },
  {
   "cell_type": "code",
   "execution_count": 95,
   "metadata": {
    "scrolled": false
   },
   "outputs": [
    {
     "name": "stderr",
     "output_type": "stream",
     "text": [
      "/Users/amandachen/anaconda/envs/py35/lib/python3.5/site-packages/ipykernel_launcher.py:12: SettingWithCopyWarning: \n",
      "A value is trying to be set on a copy of a slice from a DataFrame\n",
      "\n",
      "See the caveats in the documentation: http://pandas.pydata.org/pandas-docs/stable/indexing.html#indexing-view-versus-copy\n",
      "  if sys.path[0] == '':\n"
     ]
    },
    {
     "name": "stdout",
     "output_type": "stream",
     "text": [
      "this is the 77 news and the tag is : 0\n",
      "2018-10-12\n",
      "Libya And Nigeria Lead OPEC Production Boost\n",
      "The below charts were created with data from the OPEC Monthly Oil Market Report and the data through September 2018.(Click to enlarge)OPEC crude production was up 132,000 barrels per day in September to 32,761,000 bpd. that is still 650,000 barrels per day below their all-time high in October of 2016.(Click to enlarge)August production was revised up by 63,000 bpd so production was actually up 195,000 bpd from what was reported last month.(Click to enlarge)(Click to enlarge)(Click to enlarge)(Click to enlarge)(Click to enlarge)(Click to enlarge)(Click to enlarge)Iranian production was down 150,000 barrels per day in September. Sanctions are beginning to have an effect.(Click to enlarge)Iraqi production was up only slightly in September but they seem to be holding at their new all time high.(Click to enlarge)Kuwait was also up slightly in September. I think they will be holding at this level for awhile.(Click to enlarge)Libya was up 103,000 barrels per day in September.(Click to enlarge)Nigeria was up 26,000 barrels per day in September.(Click to enlarge)(Click to enlarge)Saudi Arabia was up 108,000 barrels per day in September. They are now only 114,000 bpd below their high in December 2016.(Click to enlarge)The UAE was up 30,000 bpd in September. They are 86,000 barrels per day below their high in December 2006.And Venezuela continues to plunge toward total collapse.(Click to enlarge)OPEC big 5 was flat in September. Declines from Iran was offset by gains from the other four.(Click to enlarge)The other 10 OPEC producers were up 130,000 barrels per day in September in addition to the 345,000 bpd it was up in August. The lion’s share of this increase came from Libya and Nigeria.(Click to enlarge)If OPEC’s data is correct, then the world reached a new all-time high is total liquids production in September.By Peak Oil BarrelMore Top Reads From Oilprice.com:\n"
     ]
    }
   ],
   "source": [
    "ut.update_this_news(1)"
   ]
  },
  {
   "cell_type": "code",
   "execution_count": 76,
   "metadata": {},
   "outputs": [
    {
     "name": "stdout",
     "output_type": "stream",
     "text": [
      "this is the 58 news and the tag is : 0\n",
      "2018-10-19\n",
      "Exxon Is Betting On Africa For Its Next Big Find\n",
      "Exxon is betting very big on Africa for its next big find, the supermajor’s head of exploration, Stephen Greenlee, told Bloomberg in an interview. In fact, Greenlee said, Exxon was hoping to strike a discovery of a billion barrels or more in Africa: what is known in the industry as an elephant, Bloomberg’s Kevin Crowley reports.The U.S. Geological Survey estimated that two years ago there were at least 41 billion untapped barrels of crude oil in sub-Saharan Africa alone. Exxon is focusing on western and southern Africa in its exploration work and has been amassing stakes in oil and gas prospect in Ghana, Mauritania, Namibia, and South Africa.In Ghana, Exxon tried to buy Kosmos Energy’s stake in the giant Jubilee offshore field in 2009, but the deal was blocked by the Ghana authorities. Last year, the supermajor bought straight from the Ghana government exploration rights for an adjacent block, and plans were to begin working on it this year.In Namibia, it bought a 30-percent stake in an offshore exploration license. Although no oil has yet been discovered in Namibia, there is a theory that its offshore basins may share characteristics with Brazil’s Campos and Santos—Brazil and Namibia were part of one whole a few billion years ago.Exxon is also buying seismic data. “We’re acquiring large amounts of seismic data with the idea that in the future one or two of those are going to turn out to be the next Guyana,” Greenlee said. “These are large acreage positions and they’re in areas that we think have promising opportunities for hydrocarbon systems.”Perhaps the Guyana discovery—an elephant containing an estimated 4 billion barrels of crude—spurred hopes for another one in less explored parts of the world that are nevertheless close to established production sites such as Nigeria and Angola.  By Irina Slav for Oilprice.comMore Top Reads From Oilprice.com:\n"
     ]
    }
   ],
   "source": [
    "ut.go_to_news(58)"
   ]
  }
 ],
 "metadata": {
  "kernelspec": {
   "display_name": "Python 3",
   "language": "python",
   "name": "python3"
  },
  "language_info": {
   "codemirror_mode": {
    "name": "ipython",
    "version": 3
   },
   "file_extension": ".py",
   "mimetype": "text/x-python",
   "name": "python",
   "nbconvert_exporter": "python",
   "pygments_lexer": "ipython3",
   "version": "3.5.4"
  }
 },
 "nbformat": 4,
 "nbformat_minor": 2
}
