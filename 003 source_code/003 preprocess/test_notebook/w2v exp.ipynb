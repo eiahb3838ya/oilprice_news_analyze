{
 "cells": [
  {
   "cell_type": "code",
   "execution_count": 5,
   "metadata": {},
   "outputs": [],
   "source": [
    "import numpy as np\n",
    "import pandas as pd\n",
    "import matplotlib.pyplot as plt\n",
    "\n",
    "import gensim,os,sklearn,tqdm\n",
    "\n",
    "# from collections import Counter\n",
    "from datetime import datetime\n",
    "\n",
    "from scipy.sparse import csr_matrix\n",
    "from sklearn.feature_extraction.text import TfidfVectorizer\n",
    "from gensim import corpora\n",
    "from gensim.models import Word2Vec\n",
    "\n",
    "%matplotlib inline"
   ]
  },
  {
   "cell_type": "code",
   "execution_count": 20,
   "metadata": {},
   "outputs": [
    {
     "name": "stdout",
     "output_type": "stream",
     "text": [
      "Dictionary(12986 unique tokens: ['', 'a', 'about', 'activity', 'added']...)\n"
     ]
    }
   ],
   "source": [
    "model=Word2Vec.load(\"tmp/w2v_model_20190321\")\n",
    "DICT_FOLDER = \"C:\\\\Users\\\\Evan\\\\MyFile\\\\Fortune-street\\\\007 oil_price\\\\oilprice_news_analyze\\\\002 data\\\\003 outcome_data\\\\gemsim_outcome\\\\dictionary\"\n",
    "dictionary=corpora.Dictionary.load(os.path.join(DICT_FOLDER, \"2019-03-09\"+'.dict'))  # store the dictionary, for future reference\n",
    "print(dictionary)"
   ]
  },
  {
   "cell_type": "code",
   "execution_count": 21,
   "metadata": {},
   "outputs": [
    {
     "data": {
      "text/plain": [
       "<12986x12986 sparse matrix of type '<class 'numpy.float32'>'\n",
       "\twith 890020 stored elements in Compressed Sparse Column format>"
      ]
     },
     "execution_count": 21,
     "metadata": {},
     "output_type": "execute_result"
    }
   ],
   "source": [
    "# corpora.dictionary\n",
    "model.wv.similarity_matrix(dictionary)"
   ]
  }
 ],
 "metadata": {
  "kernelspec": {
   "display_name": "Python 3",
   "language": "python",
   "name": "python3"
  },
  "language_info": {
   "codemirror_mode": {
    "name": "ipython",
    "version": 3
   },
   "file_extension": ".py",
   "mimetype": "text/x-python",
   "name": "python",
   "nbconvert_exporter": "python",
   "pygments_lexer": "ipython3",
   "version": "3.6.8"
  }
 },
 "nbformat": 4,
 "nbformat_minor": 2
}
