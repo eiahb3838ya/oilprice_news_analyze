{
 "cells": [
  {
   "cell_type": "code",
   "execution_count": 27,
   "metadata": {},
   "outputs": [],
   "source": [
    "import pandas as pd\n",
    "import numpy as np\n",
    "import matplotlib.pyplot as plt\n",
    "import matplotlib"
   ]
  },
  {
   "cell_type": "code",
   "execution_count": 28,
   "metadata": {},
   "outputs": [
    {
     "name": "stdout",
     "output_type": "stream",
     "text": [
      "平均: -0.01946148092744951 標準差: 2.1771093791314886\n"
     ]
    }
   ],
   "source": [
    "path =\"~/data/crude_oil_price/\"\n",
    "# df = pd.read_excel(\"../../data/crude_oil_price/11_01_2017_11_01_2018.xlsx\",sheet_name=None)\n",
    "# # df = pd.read_csv(\"../../data/crude_oil_price/11_01_2017_11_01_2018.csv\")\n",
    "# df = df['11_01_2017_11_01_2018']\n",
    "df = pd.read_csv(\"../../data/crude_oil_price/20131019_20181119.csv\")\n",
    "df = df.rename({\"日期\":\"date\",\"最新\":\"latest\",\"開市\":\"open\",\"高\":\"high\",\"低\":\"low\",\"成交量\":\"quantity\",\"更改%\":\"percentage\"}, axis='columns')\n",
    "df['percentage'] = [float(x[:-1]) for x in df['percentage']]\n",
    "opens=df.open\n",
    "closes=df.latest\n",
    "highs=df.high\n",
    "lows=df.low\n",
    "df.date = pd.to_datetime(df.date, format='%Y年%m月%d日')\n",
    "df.sort_values(by=\"date\",ascending=True,inplace=True)\n",
    "std = df['percentage'].std()\n",
    "avg = df['percentage'].mean()\n",
    "print(\"平均:\",avg,\"標準差:\",std)"
   ]
  },
  {
   "cell_type": "code",
   "execution_count": 30,
   "metadata": {},
   "outputs": [],
   "source": [
    "df.to_csv(\"../../data/crude_oil_price/history_price_clean_from2013.csv\",index = False)"
   ]
  },
  {
   "cell_type": "markdown",
   "metadata": {},
   "source": [
    "## std_change"
   ]
  },
  {
   "cell_type": "code",
   "execution_count": 26,
   "metadata": {},
   "outputs": [],
   "source": [
    "days_before = 5\n",
    "days_after = 2\n",
    "std_before = df['latest'].rolling(days_before).std().shift(1)\n",
    "std_after = df['latest'].rolling(days_after).std().shift(-1*(days_after))\n",
    "\n",
    "latest_pct_change=df['latest'].pct_change(2).shift(-2)\n",
    "df['two_day_percentage']=latest_pct_change\n",
    "\n",
    "effective_news_date = df[std_after>std_before]"
   ]
  },
  {
   "cell_type": "markdown",
   "metadata": {},
   "source": [
    "## pct_change"
   ]
  },
  {
   "cell_type": "code",
   "execution_count": 35,
   "metadata": {},
   "outputs": [
    {
     "name": "stdout",
     "output_type": "stream",
     "text": [
      "211\n"
     ]
    },
    {
     "data": {
      "text/html": [
       "<div>\n",
       "<style scoped>\n",
       "    .dataframe tbody tr th:only-of-type {\n",
       "        vertical-align: middle;\n",
       "    }\n",
       "\n",
       "    .dataframe tbody tr th {\n",
       "        vertical-align: top;\n",
       "    }\n",
       "\n",
       "    .dataframe thead th {\n",
       "        text-align: right;\n",
       "    }\n",
       "</style>\n",
       "<table border=\"1\" class=\"dataframe\">\n",
       "  <thead>\n",
       "    <tr style=\"text-align: right;\">\n",
       "      <th></th>\n",
       "      <th>latest</th>\n",
       "      <th>open</th>\n",
       "      <th>high</th>\n",
       "      <th>low</th>\n",
       "      <th>quantity</th>\n",
       "      <th>percentage</th>\n",
       "      <th>two_day_percentage</th>\n",
       "    </tr>\n",
       "    <tr>\n",
       "      <th>date</th>\n",
       "      <th></th>\n",
       "      <th></th>\n",
       "      <th></th>\n",
       "      <th></th>\n",
       "      <th></th>\n",
       "      <th></th>\n",
       "      <th></th>\n",
       "    </tr>\n",
       "  </thead>\n",
       "  <tbody>\n",
       "    <tr>\n",
       "      <th>2018-01-02</th>\n",
       "      <td>60.37</td>\n",
       "      <td>60.20</td>\n",
       "      <td>60.74</td>\n",
       "      <td>60.10</td>\n",
       "      <td>510.31K</td>\n",
       "      <td>0.22</td>\n",
       "      <td>0.027166</td>\n",
       "    </tr>\n",
       "    <tr>\n",
       "      <th>2018-01-05</th>\n",
       "      <td>61.44</td>\n",
       "      <td>61.90</td>\n",
       "      <td>62.04</td>\n",
       "      <td>61.09</td>\n",
       "      <td>563.04K</td>\n",
       "      <td>-0.92</td>\n",
       "      <td>0.024740</td>\n",
       "    </tr>\n",
       "    <tr>\n",
       "      <th>2018-01-08</th>\n",
       "      <td>61.73</td>\n",
       "      <td>61.61</td>\n",
       "      <td>61.97</td>\n",
       "      <td>61.34</td>\n",
       "      <td>616.47K</td>\n",
       "      <td>0.47</td>\n",
       "      <td>0.029807</td>\n",
       "    </tr>\n",
       "    <tr>\n",
       "      <th>2018-01-22</th>\n",
       "      <td>63.49</td>\n",
       "      <td>63.61</td>\n",
       "      <td>64.14</td>\n",
       "      <td>63.17</td>\n",
       "      <td>40.06K</td>\n",
       "      <td>0.19</td>\n",
       "      <td>0.033391</td>\n",
       "    </tr>\n",
       "    <tr>\n",
       "      <th>2018-02-13</th>\n",
       "      <td>59.19</td>\n",
       "      <td>59.35</td>\n",
       "      <td>59.73</td>\n",
       "      <td>58.39</td>\n",
       "      <td>580.60K</td>\n",
       "      <td>-0.17</td>\n",
       "      <td>0.036324</td>\n",
       "    </tr>\n",
       "  </tbody>\n",
       "</table>\n",
       "</div>"
      ],
      "text/plain": [
       "            latest   open   high    low quantity  percentage  \\\n",
       "date                                                           \n",
       "2018-01-02   60.37  60.20  60.74  60.10  510.31K        0.22   \n",
       "2018-01-05   61.44  61.90  62.04  61.09  563.04K       -0.92   \n",
       "2018-01-08   61.73  61.61  61.97  61.34  616.47K        0.47   \n",
       "2018-01-22   63.49  63.61  64.14  63.17   40.06K        0.19   \n",
       "2018-02-13   59.19  59.35  59.73  58.39  580.60K       -0.17   \n",
       "\n",
       "            two_day_percentage  \n",
       "date                            \n",
       "2018-01-02            0.027166  \n",
       "2018-01-05            0.024740  \n",
       "2018-01-08            0.029807  \n",
       "2018-01-22            0.033391  \n",
       "2018-02-13            0.036324  "
      ]
     },
     "execution_count": 35,
     "metadata": {},
     "output_type": "execute_result"
    }
   ],
   "source": [
    "latest_pct_change=df['latest'].pct_change(2).shift(-2)\n",
    "latest_pct_change_mean=latest_pct_change.mean()\n",
    "latest_pct_change_std=latest_pct_change.std()\n",
    "\n",
    "t=.8\n",
    "df['two_day_percentage']=latest_pct_change\n",
    "effective_news_date=df.loc[latest_pct_change>latest_pct_change_mean+t*latest_pct_change_std].set_index('date')\n",
    "# effective_news_date['two_day_percentage']=latest_pct_change.values\n",
    "print(len(effective_news_date))\n",
    "effective_news_date[\"2018\"].head()"
   ]
  },
  {
   "cell_type": "markdown",
   "metadata": {},
   "source": [
    "## Write to csv"
   ]
  },
  {
   "cell_type": "code",
   "execution_count": 12,
   "metadata": {},
   "outputs": [],
   "source": [
    "effective_news_date.to_csv(\"../../data/crude_oil_price/effective_news_date_days_before_and_after.csv\")"
   ]
  },
  {
   "cell_type": "markdown",
   "metadata": {},
   "source": [
    "## Plot"
   ]
  },
  {
   "cell_type": "code",
   "execution_count": 1,
   "metadata": {},
   "outputs": [
    {
     "data": {
      "text/html": [
       "<script type=\"text/javascript\">window.PlotlyConfig = {MathJaxConfig: 'local'};</script><script type=\"text/javascript\">if (window.MathJax) {MathJax.Hub.Config({SVG: {font: \"STIX-Web\"}});}</script><script>requirejs.config({paths: { 'plotly': ['https://cdn.plot.ly/plotly-latest.min']},});if(!window._Plotly) {require(['plotly'],function(plotly) {window._Plotly=plotly;});}</script>"
      ],
      "text/vnd.plotly.v1+html": [
       "<script type=\"text/javascript\">window.PlotlyConfig = {MathJaxConfig: 'local'};</script><script type=\"text/javascript\">if (window.MathJax) {MathJax.Hub.Config({SVG: {font: \"STIX-Web\"}});}</script><script>requirejs.config({paths: { 'plotly': ['https://cdn.plot.ly/plotly-latest.min']},});if(!window._Plotly) {require(['plotly'],function(plotly) {window._Plotly=plotly;});}</script>"
      ]
     },
     "metadata": {},
     "output_type": "display_data"
    }
   ],
   "source": [
    "# plotly \n",
    "import plotly as py\n",
    "import plotly.graph_objs as go\n",
    "%load_ext autoreload\n",
    "%autoreload 2\n",
    "\n",
    "# offline plot  \n",
    "# 因為如果寫成func去調用plotly會無法出現，所以只好用offline的方式。\n",
    "from plotly.offline import download_plotlyjs, init_notebook_mode, plot, iplot\n",
    "init_notebook_mode(connected=True)"
   ]
  },
  {
   "cell_type": "code",
   "execution_count": 2,
   "metadata": {},
   "outputs": [
    {
     "ename": "NameError",
     "evalue": "name 'df' is not defined",
     "output_type": "error",
     "traceback": [
      "\u001b[0;31m---------------------------------------------------------------------------\u001b[0m",
      "\u001b[0;31mNameError\u001b[0m                                 Traceback (most recent call last)",
      "\u001b[0;32m<ipython-input-2-fb0f4af36b65>\u001b[0m in \u001b[0;36m<module>\u001b[0;34m()\u001b[0m\n\u001b[1;32m      1\u001b[0m \u001b[0;31m# Create traces\u001b[0m\u001b[0;34m\u001b[0m\u001b[0;34m\u001b[0m\u001b[0m\n\u001b[1;32m      2\u001b[0m trace1 = go.Scatter(\n\u001b[0;32m----> 3\u001b[0;31m     \u001b[0mx\u001b[0m \u001b[0;34m=\u001b[0m \u001b[0mdf\u001b[0m\u001b[0;34m[\u001b[0m\u001b[0;34m'date'\u001b[0m\u001b[0;34m]\u001b[0m\u001b[0;34m,\u001b[0m\u001b[0;34m\u001b[0m\u001b[0m\n\u001b[0m\u001b[1;32m      4\u001b[0m     \u001b[0my\u001b[0m \u001b[0;34m=\u001b[0m \u001b[0mdf\u001b[0m\u001b[0;34m[\u001b[0m\u001b[0;34m'percentage'\u001b[0m\u001b[0;34m]\u001b[0m\u001b[0;34m,\u001b[0m\u001b[0;34m\u001b[0m\u001b[0m\n\u001b[1;32m      5\u001b[0m     \u001b[0mmode\u001b[0m \u001b[0;34m=\u001b[0m \u001b[0;34m'lines+markers'\u001b[0m\u001b[0;34m,\u001b[0m\u001b[0;34m\u001b[0m\u001b[0m\n",
      "\u001b[0;31mNameError\u001b[0m: name 'df' is not defined"
     ]
    }
   ],
   "source": [
    "# Create traces\n",
    "trace1 = go.Scatter(\n",
    "    x = df['date'],\n",
    "    y = df['percentage'],\n",
    "    mode = 'lines+markers',\n",
    "    name = 'lines+markers'\n",
    ")\n",
    "trace2 = go.Scatter(\n",
    "    x = df['date'],\n",
    "    y = df['open'],\n",
    "    mode = 'lines+markers',\n",
    "    name = 'lines+markers'\n",
    ")\n",
    "\n",
    "data = [trace1,trace2]\n",
    "iplot(data, filename='scatter-mode')"
   ]
  },
  {
   "cell_type": "code",
   "execution_count": null,
   "metadata": {
    "collapsed": true
   },
   "outputs": [],
   "source": []
  }
 ],
 "metadata": {
  "kernelspec": {
   "display_name": "Python 3",
   "language": "python",
   "name": "python3"
  },
  "language_info": {
   "codemirror_mode": {
    "name": "ipython",
    "version": 3
   },
   "file_extension": ".py",
   "mimetype": "text/x-python",
   "name": "python",
   "nbconvert_exporter": "python",
   "pygments_lexer": "ipython3",
   "version": "3.6.6"
  }
 },
 "nbformat": 4,
 "nbformat_minor": 2
}
